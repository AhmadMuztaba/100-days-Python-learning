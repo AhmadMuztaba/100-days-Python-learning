{
  "nbformat": 4,
  "nbformat_minor": 0,
  "metadata": {
    "colab": {
      "name": "python_practice.ipynb",
      "provenance": [],
      "collapsed_sections": [
        "SEQ29OkbonMD",
        "eLL6qDcQovw2",
        "eBJgF8d4oc0Q",
        "tGVvRcDYv06m",
        "O1hxRMYtAYaS",
        "Un5AkURwzZEb",
        "zUW-Tr3B01Ox",
        "dE7fCMUzVNhA",
        "9zvKNhcfQZx3",
        "WtXM3aO6WOHL",
        "bkmE0q9-bD3K",
        "UKPcGODePMWQ"
      ],
      "authorship_tag": "ABX9TyN8H5aAsPkLBbM8qL75NRvG",
      "include_colab_link": true
    },
    "kernelspec": {
      "display_name": "Python 3",
      "name": "python3"
    },
    "language_info": {
      "name": "python"
    }
  },
  "cells": [
    {
      "cell_type": "markdown",
      "metadata": {
        "id": "view-in-github",
        "colab_type": "text"
      },
      "source": [
        "<a href=\"https://colab.research.google.com/github/AhmadMuztaba/100-days-Python-learning/blob/main/python_practice.ipynb\" target=\"_parent\"><img src=\"https://colab.research.google.com/assets/colab-badge.svg\" alt=\"Open In Colab\"/></a>"
      ]
    },
    {
      "cell_type": "code",
      "metadata": {
        "id": "kPeyt6aD0fqW"
      },
      "source": [
        "print(\"Welcome to the band name generator\\n\");\n",
        "band_name=input(\"name of the city you grew up\\n\");\n",
        "pet_name=input(\"name of your pet\\n\");\n",
        "print(\"Your band name could be \"+band_name+\" \"+pet_name);\n"
      ],
      "execution_count": null,
      "outputs": []
    },
    {
      "cell_type": "markdown",
      "metadata": {
        "id": "SEQ29OkbonMD"
      },
      "source": [
        "# DAY->1"
      ]
    },
    {
      "cell_type": "code",
      "metadata": {
        "colab": {
          "base_uri": "https://localhost:8080/"
        },
        "id": "LR5LueDrM51B",
        "outputId": "17398983-dfa5-482d-c5cb-002dbcb55220"
      },
      "source": [
        "num=input(\"enter number\\n\");\n",
        "firstnum=int(num[0]);\n",
        "secondnum=int(num[1]);\n",
        "sum=str(firstnum+secondnum);\n",
        "print(\"the sum is \"+sum);"
      ],
      "execution_count": null,
      "outputs": [
        {
          "name": "stdout",
          "output_type": "stream",
          "text": [
            "enter number\n",
            "12.5\n",
            "the sum is 3\n"
          ]
        }
      ]
    },
    {
      "cell_type": "markdown",
      "metadata": {
        "id": "eLL6qDcQovw2"
      },
      "source": [
        "# DAY->2\n"
      ]
    },
    {
      "cell_type": "code",
      "metadata": {
        "id": "D2GrWrDRjkQs"
      },
      "source": [
        "weight=float(input(\"Enter your Weight\\n\"));\n",
        "height=float(input(\"Enter your Height\\n\"));\n",
        "bmi=(weight/(height**2));\n",
        "bmi=math.floor(bmi);\n",
        "print(bmi);"
      ],
      "execution_count": null,
      "outputs": []
    },
    {
      "cell_type": "code",
      "metadata": {
        "colab": {
          "base_uri": "https://localhost:8080/"
        },
        "id": "ovlSMpQOnvDy",
        "outputId": "675dd88e-aa36-41b9-bb26-70c9688c21eb"
      },
      "source": [
        "age=input(\"What is your current age?\");\n",
        "age=int(age);\n",
        "hayat=90;\n",
        "left=hayat-age;\n",
        "days=(left*365);\n",
        "weeks=(left*52);\n",
        "months=(left*12);\n",
        "print(f\"You have {days} days, {weeks} weeks, and {months} months left.\")"
      ],
      "execution_count": null,
      "outputs": [
        {
          "name": "stdout",
          "output_type": "stream",
          "text": [
            "What is your current age?23\n",
            "You have 24455 days, 3484 weeks, and 804 months left.\n"
          ]
        }
      ]
    },
    {
      "cell_type": "code",
      "metadata": {
        "id": "P-E3c6zxrLib"
      },
      "source": [
        "print(\"Welcome to the Tip Calculator\\n\");\n",
        "bill=input(\"what was the total bill ?$\");\n",
        "bill=float(bill);\n",
        "tip=input(\"What percentage tip would you like to give ? 10,12 or 15? \");\n",
        "tip=int(tip);\n",
        "people=input(\"how many people to split the bill? \");\n",
        "people=int(people);\n",
        "total_bill=bill+(bill*(tip/100));\n",
        "each_person_bill=\"{:.2f}\".format(total_bill/people);\n",
        "print(f\"Each person should pay : ${each_person_bill}\");\n"
      ],
      "execution_count": null,
      "outputs": []
    },
    {
      "cell_type": "markdown",
      "metadata": {
        "id": "eBJgF8d4oc0Q"
      },
      "source": [
        "# DAY->3"
      ]
    },
    {
      "cell_type": "code",
      "metadata": {
        "id": "nJPBbj-UocVa"
      },
      "source": [
        "number=int(input(\"Enter Number\\n\"));\n",
        "if number%2==0 :\n",
        "  print(f\"{number} is even\");\n",
        "else :\n",
        "  print(f\"{number} is odd\");"
      ],
      "execution_count": null,
      "outputs": []
    },
    {
      "cell_type": "code",
      "metadata": {
        "colab": {
          "base_uri": "https://localhost:8080/"
        },
        "id": "zLlMwPREs9Au",
        "outputId": "9b47b0ec-d4e6-4837-b981-99c4c53193f8"
      },
      "source": [
        "height=float(input(\"Enter your height \"));\n",
        "weight=float(input(\"Enter your weight \"));\n",
        "bmi=weight/(height**2);\n",
        "if bmi<=18.5:\n",
        "  print(\"You are underweight\");\n",
        "elif (bmi>18.5 and bmi<=25):\n",
        "  print(\"You have a normal weight\");\n",
        "elif (bmi>25 and bmi<=30):\n",
        "  print(\"you are slightly overweight\");\n",
        "elif (bmi>30 and bmi<=35):\n",
        "  print(\"you are obese\");\n",
        "else :\n",
        "  print(\"you are clinically obese\");"
      ],
      "execution_count": null,
      "outputs": [
        {
          "name": "stdout",
          "output_type": "stream",
          "text": [
            "Enter your height1.75\n",
            "Enter your weight80\n",
            "you are slightly overweight\n"
          ]
        }
      ]
    },
    {
      "cell_type": "code",
      "metadata": {
        "id": "s1ZONQecvsUE"
      },
      "source": [
        "year=int(input(\"enter year\"));\n",
        "if(year%4==0):\n",
        "  if(year%100==0):\n",
        "    if(year%400==0):\n",
        "      print(\"leap year\");\n",
        "    else:\n",
        "      print(\"Not a leap year\");\n",
        "  elif(year%100!=0):\n",
        "    print(\"leap year\");\n",
        "else:\n",
        "  print(\"Not a leap year\");"
      ],
      "execution_count": null,
      "outputs": []
    },
    {
      "cell_type": "code",
      "metadata": {
        "id": "2m9OF6US4H3L"
      },
      "source": [
        "print(\"Welcome to Python Pizza Deliveries!\");\n",
        "size = input(\"What size pizza do you want? S, M, or L \");\n",
        "add_pepperoni = input(\"Do you want pepperoni? Y or N \");\n",
        "extra_cheese = input(\"Do you want extra cheese? Y or N \");\n",
        "cost=0;\n",
        "if size=='S':\n",
        "  cost=cost+15;\n",
        "  if(add_pepperoni=='Y'):\n",
        "    cost=cost+2;\n",
        "elif size=='M':\n",
        "  cost=cost+20;\n",
        "  if(add_pepperoni=='Y'):\n",
        "    cost=cost+3;\n",
        "elif size=='L':\n",
        "  cost=cost+25;\n",
        "  if(add_pepperoni=='Y'):\n",
        "    cost=cost+3;\n",
        "if(extra_cheese=='Y'):\n",
        "  cost=cost+1;\n",
        "print(f\"your total is {cost}\")"
      ],
      "execution_count": null,
      "outputs": []
    },
    {
      "cell_type": "code",
      "metadata": {
        "id": "KV4C7wFx8Gyi"
      },
      "source": [
        "name1=input(\"name?\\n\");\n",
        "name2=input(\"name?\\n\");\n",
        "couple=name1+name2;\n",
        "couple=couple.lower();\n",
        "l=0;\n",
        "o=0;\n",
        "v=0;\n",
        "e=0;\n",
        "t=0;\n",
        "r=0;\n",
        "u=0;\n",
        "e=0;\n",
        "for char in couple:\n",
        "    if(char=='l'):\n",
        "      l=l+1;\n",
        "    elif(char=='o'):\n",
        "      o=o+1;\n",
        "    elif(char=='v'):\n",
        "      v=v+1;\n",
        "    elif(char=='e'):\n",
        "      e=e+1;\n",
        "    elif(char=='t'):\n",
        "      t=t+1;\n",
        "    elif(char=='r'):\n",
        "      r=r+1;\n",
        "    elif(char=='u'):\n",
        "      u=u+1;\n",
        "    elif(char=='e'):\n",
        "      e=e+1;\n",
        "love=str(l+o+v+e);\n",
        "true=str(t+r+u+e);\n",
        "\n",
        "true_love=int(true+love);\n",
        "if true_love>90 or true_love<10:\n",
        "  print(f\"{name1} and {name2} love percentage is {true_love}, they go together like coke and mentos.\");\n",
        "elif true_love>40 and true_love<50:\n",
        "  print(f\"{name1} and {name2} love percentage is {true_love}, they are alright together.\");\n",
        "else:\n",
        "  print(f\"Their love percentage is {true_love}.\")\n",
        "\n",
        "\n"
      ],
      "execution_count": null,
      "outputs": []
    },
    {
      "cell_type": "code",
      "metadata": {
        "colab": {
          "background_save": true,
          "base_uri": "https://localhost:8080/"
        },
        "id": "6JaNa8CyRv0T",
        "outputId": "1951dca4-a450-4fff-a6b8-a0db338f2d10"
      },
      "source": [
        "print('''\n",
        "*******************************************************************************\n",
        "          |                   |                  |                     |\n",
        " _________|________________.=\"\"_;=.______________|_____________________|_______\n",
        "|                   |  ,-\"_,=\"\"     `\"=.|                  |\n",
        "|___________________|__\"=._o`\"-._        `\"=.______________|___________________\n",
        "          |                `\"=._o`\"=._      _`\"=._                     |\n",
        " _________|_____________________:=._o \"=._.\"_.-=\"'\"=.__________________|_______\n",
        "|                   |    __.--\" , ; `\"=._o.\" ,-\"\"\"-._ \".   |\n",
        "|___________________|_._\"  ,. .` ` `` ,  `\"-._\"-._   \". '__|___________________\n",
        "          |           |o`\"=._` , \"` `; .\". ,  \"-._\"-._; ;              |\n",
        " _________|___________| ;`-.o`\"=._; .\" ` '`.\"\\` . \"-._ /_______________|_______\n",
        "|                   | |o;    `\"-.o`\"=._``  '` \" ,__.--o;   |\n",
        "|___________________|_| ;     (#) `-.o `\"=.`_.--\"_o.-; ;___|___________________\n",
        "____/______/______/___|o;._    \"      `\".o|o_.--\"    ;o;____/______/______/____\n",
        "/______/______/______/_\"=._o--._        ; | ;        ; ;/______/______/______/_\n",
        "____/______/______/______/__\"=._o--._   ;o|o;     _._;o;____/______/______/____\n",
        "/______/______/______/______/____\"=._o._; | ;_.--\"o.--\"_/______/______/______/_\n",
        "____/______/______/______/______/_____\"=.o|o_.--\"\"___/______/______/______/____\n",
        "/______/______/______/______/______/______/______/______/______/______/_____ /\n",
        "*******************************************************************************\n",
        "''')\n",
        "print(\"Welcome to Treasure Island.\")\n",
        "print(\"Your mission is to find the treasure.\\n আপনি একটি পাহাড়ি রাস্থা বেয়ে হেঁটে চলেছেন ।\") \n",
        "move1=input(\"হাটতে-হাটতে এমন এক জায়গায় এসে পড়লেন যেখান থেকে ২টি পথ বেরিয়েছে । এখন আপনাকে যেকোনো একটি পথ বেছে নিতে হবে Left or Right  । Type \\\"Left\\\" or \\\"Right\\\"\\n\");\n",
        "move1=move1.lower();\n",
        "if move1==\"left\":\n",
        "  print(\"আপনি যে রাস্তা বেছে নিয়েছেন এটা বাঘের আস্তানা । পাশেই বাঘ বসেছিল । আপনার ঘাড় মচকে দিয়েছে । \\n Game Over !!\");\n",
        "elif move1==\"right\":\n",
        "  move2=input(\"আপনি হেঁটে চলেছেন পাহাড়ি রাস্তা বেয়ে । সন্ধ্যা হয়ে আসছে । আপনার সামনে একটা নদী । আপনি কি নদী পাড় হবেন নাকি রাতটা এখানে কাটাবেন?\\n . Type \\\"wait\\\" to wait or Type \\\"swim\\\" to cross the river\\n\");\n",
        "  move2=move2.lower();\n",
        "  if move2==\"swim\":\n",
        "    print(\"নদীতে কুমির ছিল । আপনাকে খেয়ে ফেলেছে । \\n Game Over! \");\n",
        "  else:\n",
        "    move3=input(\"সকালে আপনি মাঝি দেখলেন এবং তার সহায়তায় নৌকা করে নদী পার হলেন ।\\n আপনি আবার হাটছেন । এবার হাটতে-হাটতে একটি ঘন জংগলে এসে আপনি পথ হারিয়ে ফেললেন । \\n তবে ,আল্লাহর অশেষ রহমতে আপনি এমন এক জায়গায় এসে পড়লেন যেখান থেকে ৩টি বাড়ি দেখা যায় । বাড়ি গুলোর রং যথাক্রমে-red ,yellow and blue .\\nআপনি কোন বাড়ি টোকা দিবেন ?\\n\");\n",
        "    move3=move3.lower();\n",
        "    if(move3=='blue'):\n",
        "      print('''\n",
        "      X-X-X-X-X-X-X-X-X-X-X-X-X-X-X-X-X-X-X-X-X-X-X-X-X-X-X-X-X-X-X-X-X-X-X-X-X-X-X\n",
        "|                           ,,'``````````````',,                            |\n",
        "X                        ,'`                   `',                          X\n",
        "|                      ,'                         ',                        |\n",
        "X                    ,'          ;       ;          ',                      X\n",
        "|       (           ;             ;     ;             ;     (               |\n",
        "X        )         ;              ;     ;              ;     )              X\n",
        "|       (         ;                ;   ;                ;   (               |\n",
        "X        )    ;   ;    ,,'```',,,   ; ;   ,,,'```',,    ;   ;               X\n",
        "|       (    ; ',;   '`          `',   ,'`          `'   ;,' ;              |\n",
        "X        )  ; ;`,`',  _--~~~~--__   ' '   __--~~~~--_  ,'`,'; ;     )       X\n",
        "|       (    ; `,' ; :  /       \\~~-___-~~/       \\  : ; ',' ;     (        |\n",
        "X  )     )   )',  ;   -_\\  o    /  '   '  \\    o  /_-   ;  ,'       )   (   X\n",
        "| (     (   (   `;      ~-____--~'       '~--____-~      ;'  )     (     )  |\n",
        "X  )     )   )   ;            ,`;,,,   ,,,;',            ;  (       )   (   X\n",
        "| (     (   (  .  ;        ,'`  (__ '_' __)  `',        ;  . )     (     )  |\n",
        "X  )     \\/ ,\".). ';    ,'`        ~~ ~~        `',    ;  .(.\", \\/  )   (   X\n",
        "| (   , ,'|// / (/ ,;  '        _--~~-~~--_        '  ;, \\)    \\|', ,    )  |\n",
        "X ,)  , \\/ \\|  \\\\,/  ;;       ,; |_| | |_| ;,       ;;  \\,//  |/ \\/ ,   ,   X\n",
        "|\",   .| \\_ |\\/ |#\\_/;       ;_| : `~'~' : |_;       ;\\_/#| \\/| _/ |.   ,\"  |\n",
        "X#(,'  )  \\\\\\#\\ \\##/)#;     :  `\\/       \\/   :     ;#(\\##/ /#///  (  ',)# ,X\n",
        "|| ) | \\ |/ /#/ |#( \\; ;     :               ;     ; ;/ )#| \\#\\ \\| / | ( |) |\n",
        "X\\ |.\\\\ |\\_/#| /#),,`   ;     ;./\\_     _/\\.;     ;   `,,(#\\ |#\\_/| //.| / ,X\n",
        "| \\\\_/# |#\\##/,,'`       ;     ~~--|~|~|--~~     ;       `',,\\##/#| #\\_// \\/|\n",
        "X  ##/#  #,,'`            ;        ~~~~~        ;            `',,#  #\\##  //X\n",
        "|####@,,'`                 `',               ,'`                 `',,@####| |\n",
        "X#,,'`                        `',         ,'`                        `',,###X\n",
        "|'  spb                          ~~-----~~                               `' |\n",
        "X-X-X-X-X-X-X-X-X-X-X-X-X-X-X-X-X-X-X-X-X-X-X-X-X-X-X-X-X-X-X-X-X-X-X-X-X-X-X\n",
        "      \\n''');\n",
        "      print(\"Shakchunni was waiting for you . you are dead.Game over!!\");\n",
        "    elif(move3=='red'):\n",
        "      print('''\n",
        "\n",
        "          (                      )\n",
        "          |\\    _,--------._    / |\n",
        "          | `.,'            `. /  |\n",
        "          `  '              ,-'   '\n",
        "           \\/_         _   (     /\n",
        "          (,-.`.    ,',-.`. `__,'\n",
        "           |/#\\ ),-','#\\`= ,'.` |\n",
        "           `._/)  -'.\\_,'   ) ))|\n",
        "           /  (_.)\\     .   -'//\n",
        "          (  /\\____/\\    ) )`'\\\n",
        "           \\ |V----V||  ' ,    \\\n",
        "            |`- -- -'   ,'   \\  \\      _____\n",
        "     ___    |         .'    \\ \\  `._,-'     `-\n",
        "        `.__,`---^---'       \\ ` -'\n",
        "           -.______  \\ . /  ______,-\n",
        "                   `.     ,'            ap\\n''');\n",
        "      print(\"Daini killed you and eating your flesh and bones !! Game over!!\");\n",
        "    elif(move3=='yellow'):\n",
        "      print(\"Congrats!! you found the treasure .\")\n",
        "    else:\n",
        "      print(\"Game over !! should have chosen the house carefully !!\");\n"
      ],
      "execution_count": null,
      "outputs": [
        {
          "name": "stdout",
          "output_type": "stream",
          "text": [
            "\n",
            "*******************************************************************************\n",
            "          |                   |                  |                     |\n",
            " _________|________________.=\"\"_;=.______________|_____________________|_______\n",
            "|                   |  ,-\"_,=\"\"     `\"=.|                  |\n",
            "|___________________|__\"=._o`\"-._        `\"=.______________|___________________\n",
            "          |                `\"=._o`\"=._      _`\"=._                     |\n",
            " _________|_____________________:=._o \"=._.\"_.-=\"'\"=.__________________|_______\n",
            "|                   |    __.--\" , ; `\"=._o.\" ,-\"\"\"-._ \".   |\n",
            "|___________________|_._\"  ,. .` ` `` ,  `\"-._\"-._   \". '__|___________________\n",
            "          |           |o`\"=._` , \"` `; .\". ,  \"-._\"-._; ;              |\n",
            " _________|___________| ;`-.o`\"=._; .\" ` '`.\"\\` . \"-._ /_______________|_______\n",
            "|                   | |o;    `\"-.o`\"=._``  '` \" ,__.--o;   |\n",
            "|___________________|_| ;     (#) `-.o `\"=.`_.--\"_o.-; ;___|___________________\n",
            "____/______/______/___|o;._    \"      `\".o|o_.--\"    ;o;____/______/______/____\n",
            "/______/______/______/_\"=._o--._        ; | ;        ; ;/______/______/______/_\n",
            "____/______/______/______/__\"=._o--._   ;o|o;     _._;o;____/______/______/____\n",
            "/______/______/______/______/____\"=._o._; | ;_.--\"o.--\"_/______/______/______/_\n",
            "____/______/______/______/______/_____\"=.o|o_.--\"\"___/______/______/______/____\n",
            "/______/______/______/______/______/______/______/______/______/______/_____ /\n",
            "*******************************************************************************\n",
            "\n",
            "Welcome to Treasure Island.\n",
            "Your mission is to find the treasure.\n",
            " আপনি একটি পাহাড়ি রাস্থা বেয়ে হেঁটে চলেছেন ।\n"
          ]
        }
      ]
    },
    {
      "cell_type": "markdown",
      "metadata": {
        "id": "tGVvRcDYv06m"
      },
      "source": [
        "# DAY-->4"
      ]
    },
    {
      "cell_type": "code",
      "metadata": {
        "id": "0_c_YEA1v5rO"
      },
      "source": [
        "import random;\n",
        "rand_int=str(random.randint(1,5));\n",
        "rand_float=str(random.random());\n",
        "print(rand_int);\n",
        "print(rand_float);\n",
        "g=len(rand_float);\n",
        "rand_number=rand_int+rand_float[1:g];\n",
        "print(rand_number);"
      ],
      "execution_count": null,
      "outputs": []
    },
    {
      "cell_type": "code",
      "metadata": {
        "colab": {
          "base_uri": "https://localhost:8080/"
        },
        "id": "7qKhTwsXrju_",
        "outputId": "96b1bef0-bea8-4292-97da-66cf7edaee2f"
      },
      "source": [
        "import random;\n",
        "number=random.randint(0,1);\n",
        "if number==0:\n",
        "  print(\"Heads\");\n",
        "elif number==1:\n",
        "  print(\"Tails\");"
      ],
      "execution_count": null,
      "outputs": [
        {
          "output_type": "stream",
          "name": "stdout",
          "text": [
            "Heads\n"
          ]
        }
      ]
    },
    {
      "cell_type": "code",
      "metadata": {
        "id": "YL7bHt87H22J"
      },
      "source": [
        "import random;\n",
        "names_string = input(\"Give me everybody's names, separated by a comma. \")\n",
        "persons = names_string.split(\",\")\n",
        "count=len(persons)-1;\n",
        "random=random.randint(0,count);\n",
        "print(f\"{persons[random]} is going to buy the meal today!\");"
      ],
      "execution_count": null,
      "outputs": []
    },
    {
      "cell_type": "code",
      "metadata": {
        "colab": {
          "base_uri": "https://localhost:8080/"
        },
        "id": "7f_yEoe_W4zs",
        "outputId": "d96cb687-7540-44b8-e40a-51bc81f0bcb5"
      },
      "source": [
        "row1 = [\"⬜️\",\"⬜️\",\"⬜️\"]\n",
        "row2 = [\"⬜️\",\"⬜️\",\"⬜️\"]\n",
        "row3 = [\"⬜️\",\"⬜️\",\"⬜️\"]\n",
        "map = [row1, row2, row3]\n",
        "print(f\"{row1}\\n{row2}\\n{row3}\")\n",
        "position = input(\"Where do you want to put the treasure? \")\n",
        "map[int(position[1])-1][int(position[0])-1]=\"X\";\n",
        "print(f\"{row1}\\n{row2}\\n{row3}\")"
      ],
      "execution_count": null,
      "outputs": [
        {
          "output_type": "stream",
          "name": "stdout",
          "text": [
            "['⬜️', '⬜️', '⬜️']\n",
            "['⬜️', '⬜️', '⬜️']\n",
            "['⬜️', '⬜️', '⬜️']\n",
            "Where do you want to put the treasure? 31\n",
            "['⬜️', '⬜️', 'X']\n",
            "['⬜️', '⬜️', '⬜️']\n",
            "['⬜️', '⬜️', '⬜️']\n"
          ]
        }
      ]
    },
    {
      "cell_type": "code",
      "metadata": {
        "id": "3iWhBPzxaMtX"
      },
      "source": [
        "import random;\n",
        "rock = '''\n",
        "    _______\n",
        "---'   ____)\n",
        "      (_____)\n",
        "      (_____)\n",
        "      (____)\n",
        "---.__(___)\n",
        "'''\n",
        "\n",
        "paper = '''\n",
        "    _______\n",
        "---'   ____)____\n",
        "          ______)\n",
        "          _______)\n",
        "         _______)\n",
        "---.__________)\n",
        "'''\n",
        "\n",
        "scissors = '''\n",
        "    _______\n",
        "---'   ____)____\n",
        "          ______)\n",
        "       __________)\n",
        "      (____)\n",
        "---.__(___)\n",
        "'''\n",
        "options=[rock,paper,scissors]\n",
        "choose=int(input(\"What do you choose?type 0 for Rock,1 for paper and 2 for Scissors\\n\"));\n",
        "print(\"you chose\\n\");\n",
        "print(options[choose])\n",
        "rand=random.randint(0,2);\n",
        "print(\"computer chose\\n\");\n",
        "print(options[rand]);\n",
        "if(choose==0 and rand==1):\n",
        "  print(\"you loose\");\n",
        "elif(choose==0 and rand==2):\n",
        "  print(\"you win\");\n",
        "elif(choose==1 and rand==0):\n",
        "  print(\"you win\");\n",
        "elif(choose==1 and rand==2):\n",
        "  print(\"you loose\");\n",
        "elif(choose==2 and rand==0):\n",
        "  print(\"you loose\");\n",
        "elif(choose==2 and rand==1):\n",
        "  print(\"you win\");\n",
        "elif(choose==rand):\n",
        "  print(\"draw\");\n",
        "else:\n",
        "  print(\"something went wrong\");\n",
        "\n",
        "\n"
      ],
      "execution_count": null,
      "outputs": []
    },
    {
      "cell_type": "markdown",
      "metadata": {
        "id": "O1hxRMYtAYaS"
      },
      "source": [
        "# DAY-->5"
      ]
    },
    {
      "cell_type": "code",
      "metadata": {
        "id": "LTGQ1y2qAgQv",
        "colab": {
          "base_uri": "https://localhost:8080/"
        },
        "outputId": "67527f11-c068-4cc3-cda8-c168a47983f8"
      },
      "source": [
        "# 🚨 Don't change the code below 👇\n",
        "student_heights = input(\"Input a list of student heights \").split();\n",
        "for n in range(0, len(student_heights)):\n",
        "  student_heights[n] = int(student_heights[n])\n",
        "# 🚨 Don't change the code above 👆\n",
        "#Write your code below this row 👇\n",
        "all_height=0;\n",
        "all_student=0;\n",
        "for student in student_heights :\n",
        "  all_height+=student;\n",
        "  all_student+=1;\n",
        "\n",
        "average=round(all_height/all_student);\n",
        "print(average);"
      ],
      "execution_count": null,
      "outputs": [
        {
          "output_type": "stream",
          "name": "stdout",
          "text": [
            "Input a list of student heights 156 178 165 171 187\n",
            "171\n"
          ]
        }
      ]
    },
    {
      "cell_type": "code",
      "metadata": {
        "colab": {
          "base_uri": "https://localhost:8080/"
        },
        "id": "sVdN7Kpiu789",
        "outputId": "e90dae3a-5f95-4dda-a2ba-60d92ad64a9a"
      },
      "source": [
        "# 🚨 Don't change the code below 👇\n",
        "student_scores = input(\"Input a list of student scores \").split()\n",
        "for n in range(0, len(student_scores)):\n",
        "  student_scores[n] = int(student_scores[n])\n",
        "print(student_scores)\n",
        "# 🚨 Don't change the code above 👆\n",
        "\n",
        "#Write your code below this row 👇\n",
        "highest=student_scores[0];\n",
        "for student in student_scores:\n",
        "    if(student>highest):\n",
        "      highest=student;\n",
        "print(f\"The highest score in the class is : {highest}\");\n",
        "\n"
      ],
      "execution_count": null,
      "outputs": [
        {
          "output_type": "stream",
          "name": "stdout",
          "text": [
            "Input a list of student scores 78 65 89 86 55 91 64 89\n",
            "[78, 65, 89, 86, 55, 91, 64, 89]\n",
            "The highest score in the class is : 91\n"
          ]
        }
      ]
    },
    {
      "cell_type": "code",
      "metadata": {
        "colab": {
          "base_uri": "https://localhost:8080/"
        },
        "id": "GTakJSyT83CO",
        "outputId": "7dc5b689-d5ad-4298-ce1a-6bd714ae3e4f"
      },
      "source": [
        "sum=0;\n",
        "for number in range(1,101):\n",
        "    if(number%2==0):\n",
        "      sum+=number;\n",
        "print(sum);\n"
      ],
      "execution_count": null,
      "outputs": [
        {
          "output_type": "stream",
          "name": "stdout",
          "text": [
            "2550\n"
          ]
        }
      ]
    },
    {
      "cell_type": "code",
      "metadata": {
        "id": "awHCb8go_E7d"
      },
      "source": [
        "for i in range(1,101):\n",
        "  if i%3==0 and i%5==0:\n",
        "    print(\"FizzBuzz\");\n",
        "  elif i%3==0:\n",
        "    print(\"Fizz\");\n",
        "  elif i%5==0:\n",
        "    print(\"Buzz\");\n",
        "  else:\n",
        "    print(i);"
      ],
      "execution_count": null,
      "outputs": []
    },
    {
      "cell_type": "code",
      "metadata": {
        "id": "sKtpFhgcAj33"
      },
      "source": [
        "import random\n",
        "letters = ['a', 'b', 'c', 'd', 'e', 'f', 'g', 'h', 'i', 'j', 'k', 'l', 'm', 'n', 'o', 'p', 'q', 'r', 's', 't', 'u', 'v', 'w', 'x', 'y', 'z', 'A', 'B', 'C', 'D', 'E', 'F', 'G', 'H', 'I', 'J', 'K', 'L', 'M', 'N', 'O', 'P', 'Q', 'R', 'S', 'T', 'U', 'V', 'W', 'X', 'Y', 'Z']\n",
        "numbers = ['0', '1', '2', '3', '4', '5', '6', '7', '8', '9']\n",
        "symbols = ['!', '#', '$', '%', '&', '(', ')', '*', '+']\n",
        "\n",
        "print(\"Welcome to the PyPassword Generator!\")\n",
        "nr_letters= int(input(\"How many letters would you like in your password?\\n\")) \n",
        "nr_symbols = int(input(f\"How many symbols would you like?\\n\"));\n",
        "nr_numbers = int(input(f\"How many numbers would you like?\\n\"));\n",
        "password=[];\n",
        "while nr_letters>0:\n",
        "  password.append(random.choice(letters));\n",
        "  nr_letters=nr_letters-1;\n",
        "while nr_symbols>0:\n",
        "  password.append(random.choice(numbers));\n",
        "  nr_symbols=nr_symbols-1;\n",
        "while nr_numbers>0:\n",
        "  password.append(random.choice(symbols));\n",
        "  nr_numbers=nr_numbers-1;\n",
        "random.shuffle(password);\n",
        "newpassword=''\n",
        "for i in password:\n",
        "  newpassword+=i;\n",
        "print(newpassword);\n"
      ],
      "execution_count": null,
      "outputs": []
    },
    {
      "cell_type": "markdown",
      "metadata": {
        "id": "lRxfEtqYMyDf"
      },
      "source": [
        "# Day-->6\n",
        "day 6 all about solving Reeborgs's world game\n",
        "https://reeborg.ca/reeborg.html?lang=en&mode=python&menu=worlds%2Fmenus%2Freeborg_intro_en.json&name=Hurdle%204&url=worlds%2Ftutorial_en%2Fhurdle4.json"
      ]
    },
    {
      "cell_type": "markdown",
      "metadata": {
        "id": "Un5AkURwzZEb"
      },
      "source": [
        "# DAY-->7"
      ]
    },
    {
      "cell_type": "markdown",
      "source": [
        "Haggman"
      ],
      "metadata": {
        "id": "DGU9yjbtcRJu"
      }
    },
    {
      "cell_type": "code",
      "source": [
        "import random\n",
        "\n",
        "stages = ['''\n",
        "  +---+\n",
        "  |   |\n",
        "  O   |\n",
        " /|\\  |\n",
        " / \\  |\n",
        "      |\n",
        "=========\n",
        "''', '''\n",
        "  +---+\n",
        "  |   |\n",
        "  O   |\n",
        " /|\\  |\n",
        " /    |\n",
        "      |\n",
        "=========\n",
        "''', '''\n",
        "  +---+\n",
        "  |   |\n",
        "  O   |\n",
        " /|\\  |\n",
        "      |\n",
        "      |\n",
        "=========\n",
        "''', '''\n",
        "  +---+\n",
        "  |   |\n",
        "  O   |\n",
        " /|   |\n",
        "      |\n",
        "      |\n",
        "=========''', '''\n",
        "  +---+\n",
        "  |   |\n",
        "  O   |\n",
        "  |   |\n",
        "      |\n",
        "      |\n",
        "=========\n",
        "''', '''\n",
        "  +---+\n",
        "  |   |\n",
        "  O   |\n",
        "      |\n",
        "      |\n",
        "      |\n",
        "=========\n",
        "''', '''\n",
        "  +---+\n",
        "  |   |\n",
        "      |\n",
        "      |\n",
        "      |\n",
        "      |\n",
        "=========\n",
        "''']\n",
        "\n",
        "end_of_game = False\n",
        "word_list = [\n",
        "'abruptly', \n",
        "'absurd', \n",
        "'abyss', \n",
        "'affix', \n",
        "'askew', \n",
        "'avenue', \n",
        "'awkward', \n",
        "'axiom', \n",
        "'azure', \n",
        "'bagpipes', \n",
        "'bandwagon', \n",
        "'banjo', \n",
        "'bayou', \n",
        "'beekeeper', \n",
        "'bikini', \n",
        "'blitz', \n",
        "'blizzard', \n",
        "'boggle', \n",
        "'bookworm', \n",
        "'boxcar', \n",
        "'boxful', \n",
        "'buckaroo', \n",
        "'buffalo', \n",
        "'buffoon', \n",
        "'buxom', \n",
        "'buzzard', \n",
        "'buzzing', \n",
        "'buzzwords', \n",
        "'caliph', \n",
        "'cobweb', \n",
        "'cockiness', \n",
        "'croquet', \n",
        "'crypt', \n",
        "'curacao', \n",
        "'cycle', \n",
        "'daiquiri', \n",
        "'dirndl', \n",
        "'disavow', \n",
        "'dizzying', \n",
        "'duplex', \n",
        "'dwarves', \n",
        "'embezzle', \n",
        "'equip', \n",
        "'espionage', \n",
        "'euouae', \n",
        "'exodus', \n",
        "'faking', \n",
        "'fishhook', \n",
        "'fixable', \n",
        "'fjord', \n",
        "'flapjack', \n",
        "'flopping', \n",
        "'fluffiness', \n",
        "'flyby', \n",
        "'foxglove', \n",
        "'frazzled', \n",
        "'frizzled', \n",
        "'fuchsia', \n",
        "'funny', \n",
        "'gabby', \n",
        "'galaxy', \n",
        "'galvanize', \n",
        "'gazebo', \n",
        "'giaour', \n",
        "'gizmo', \n",
        "'glowworm', \n",
        "'glyph', \n",
        "'gnarly', \n",
        "'gnostic', \n",
        "'gossip', \n",
        "'grogginess', \n",
        "'haiku', \n",
        "'haphazard', \n",
        "'hyphen', \n",
        "'iatrogenic', \n",
        "'icebox', \n",
        "'injury', \n",
        "'ivory', \n",
        "'ivy', \n",
        "'jackpot', \n",
        "'jaundice', \n",
        "'jawbreaker', \n",
        "'jaywalk', \n",
        "'jazziest', \n",
        "'jazzy', \n",
        "'jelly', \n",
        "'jigsaw', \n",
        "'jinx', \n",
        "'jiujitsu', \n",
        "'jockey', \n",
        "'jogging', \n",
        "'joking', \n",
        "'jovial', \n",
        "'joyful', \n",
        "'juicy', \n",
        "'jukebox', \n",
        "'jumbo', \n",
        "'kayak', \n",
        "'kazoo', \n",
        "'keyhole', \n",
        "'khaki', \n",
        "'kilobyte', \n",
        "'kiosk', \n",
        "'kitsch', \n",
        "'kiwifruit', \n",
        "'klutz', \n",
        "'knapsack', \n",
        "'larynx', \n",
        "'lengths', \n",
        "'lucky', \n",
        "'luxury', \n",
        "'lymph', \n",
        "'marquis', \n",
        "'matrix', \n",
        "'megahertz', \n",
        "'microwave', \n",
        "'mnemonic', \n",
        "'mystify', \n",
        "'naphtha', \n",
        "'nightclub', \n",
        "'nowadays', \n",
        "'numbskull', \n",
        "'nymph', \n",
        "'onyx', \n",
        "'ovary', \n",
        "'oxidize', \n",
        "'oxygen', \n",
        "'pajama', \n",
        "'peekaboo', \n",
        "'phlegm', \n",
        "'pixel', \n",
        "'pizazz', \n",
        "'pneumonia', \n",
        "'polka', \n",
        "'pshaw', \n",
        "'psyche', \n",
        "'puppy', \n",
        "'puzzling', \n",
        "'quartz', \n",
        "'queue', \n",
        "'quips', \n",
        "'quixotic', \n",
        "'quiz', \n",
        "'quizzes', \n",
        "'quorum', \n",
        "'razzmatazz', \n",
        "'rhubarb', \n",
        "'rhythm', \n",
        "'rickshaw', \n",
        "'schnapps', \n",
        "'scratch', \n",
        "'shiv', \n",
        "'snazzy', \n",
        "'sphinx', \n",
        "'spritz', \n",
        "'squawk', \n",
        "'staff', \n",
        "'strength', \n",
        "'strengths', \n",
        "'stretch', \n",
        "'stronghold', \n",
        "'stymied', \n",
        "'subway', \n",
        "'swivel', \n",
        "'syndrome', \n",
        "'thriftless', \n",
        "'thumbscrew', \n",
        "'topaz', \n",
        "'transcript', \n",
        "'transgress', \n",
        "'transplant', \n",
        "'triphthong', \n",
        "'twelfth', \n",
        "'twelfths', \n",
        "'unknown', \n",
        "'unworthy', \n",
        "'unzip', \n",
        "'uptown', \n",
        "'vaporize', \n",
        "'vixen', \n",
        "'vodka', \n",
        "'voodoo', \n",
        "'vortex', \n",
        "'voyeurism', \n",
        "'walkway', \n",
        "'waltz', \n",
        "'wave', \n",
        "'wavy', \n",
        "'waxy', \n",
        "'wellspring', \n",
        "'wheezy', \n",
        "'whiskey', \n",
        "'whizzing', \n",
        "'whomever', \n",
        "'wimpy', \n",
        "'witchcraft', \n",
        "'wizard', \n",
        "'woozy', \n",
        "'wristwatch', \n",
        "'wyvern', \n",
        "'xylophone', \n",
        "'yachtsman', \n",
        "'yippee', \n",
        "'yoked', \n",
        "'youthful', \n",
        "'yummy', \n",
        "'zephyr', \n",
        "'zigzag', \n",
        "'zigzagging', \n",
        "'zilch', \n",
        "'zipper', \n",
        "'zodiac', \n",
        "'zombie', \n",
        "];\n",
        "chosen_word = random.choice(word_list)\n",
        "word_length = len(chosen_word)\n",
        "\n",
        "#TODO-1: - Create a variable called 'lives' to keep track of the number of lives left. \n",
        "#Set 'lives' to equal 6.\n",
        "lives=6;\n",
        "#Testing code\n",
        "print(f'Pssst, the solution is {chosen_word}.')\n",
        "\n",
        "#Create blanks\n",
        "display = []\n",
        "for _ in range(word_length):\n",
        "    display += \"_\"\n",
        "\n",
        "while not end_of_game:\n",
        "    guess = input(\"Guess a letter: \").lower();\n",
        "    #Check guessed letter\n",
        "    found=False;\n",
        "    if(guess in display):\n",
        "      print('Already typed you loose a life');\n",
        "      lives-=1;\n",
        "      print(stages[lives]);\n",
        "    else:\n",
        "      for position in range(word_length):\n",
        "          letter = chosen_word[position]\n",
        "          # print(f\"Current position: {position}\\n Current letter: {letter}\\n Guessed letter: {guess}\")\n",
        "          if letter == guess:\n",
        "              display[position] = letter;\n",
        "              found=True;\n",
        "      if(not(found)):\n",
        "        print(stages[lives]);\n",
        "        lives-=1;\n",
        "      if lives<0:\n",
        "        print('You Loose');\n",
        "        end_of_game=True;\n",
        "      #TODO-2: - If guess is not a letter in the chosen_word,\n",
        "      #Then reduce 'lives' by 1. \n",
        "      #If lives goes down to 0 then the game should stop and it should print \"You lose.\"\n",
        "\n",
        "      #Join all the elements in the list and turn it into a String.\n",
        "      print(f\"{' '.join(display)}\")\n",
        "\n",
        "    #Check if user has got all letters.\n",
        "      if \"_\" not in display:\n",
        "        end_of_game = True\n",
        "        print(\"You win.\")\n",
        "\n",
        "    #TODO-3: - print the ASCII art from 'stages' that corresponds to the current number of 'lives' the user has remaining.\n",
        "  "
      ],
      "metadata": {
        "id": "g_g5MiTOcU01",
        "outputId": "e185a455-cec2-4c96-de92-356849b304dd",
        "colab": {
          "base_uri": "https://localhost:8080/"
        }
      },
      "execution_count": null,
      "outputs": [
        {
          "output_type": "stream",
          "name": "stdout",
          "text": [
            "Pssst, the solution is duplex.\n",
            "Guess a letter: w\n",
            "\n",
            "  +---+\n",
            "  |   |\n",
            "      |\n",
            "      |\n",
            "      |\n",
            "      |\n",
            "=========\n",
            "\n",
            "_ _ _ _ _ _\n",
            "Guess a letter: d\n",
            "d _ _ _ _ _\n",
            "Guess a letter: u\n",
            "d u _ _ _ _\n",
            "Guess a letter: p\n",
            "d u p _ _ _\n",
            "Guess a letter: u\n",
            "Already typed you loose a life\n",
            "\n",
            "  +---+\n",
            "  |   |\n",
            "  O   |\n",
            "  |   |\n",
            "      |\n",
            "      |\n",
            "=========\n",
            "\n",
            "Guess a letter: s\n",
            "\n",
            "  +---+\n",
            "  |   |\n",
            "  O   |\n",
            "  |   |\n",
            "      |\n",
            "      |\n",
            "=========\n",
            "\n",
            "d u p _ _ _\n",
            "Guess a letter: l\n",
            "d u p l _ _\n",
            "Guess a letter: e\n",
            "d u p l e _\n",
            "Guess a letter: x\n",
            "d u p l e x\n",
            "You win.\n"
          ]
        }
      ]
    },
    {
      "cell_type": "markdown",
      "source": [
        "# DAY-->8"
      ],
      "metadata": {
        "id": "zUW-Tr3B01Ox"
      }
    },
    {
      "cell_type": "code",
      "source": [
        "def greet_with_name_location(name,location):\n",
        "  print(f\"{name} is from {location}\");\n",
        "greet_with_name_location(location=\"chattogram\",name=\"sazid\");"
      ],
      "metadata": {
        "id": "JWqqRqp3VMYg",
        "outputId": "3b8319b6-deec-4b82-e37c-0c60905c59b9",
        "colab": {
          "base_uri": "https://localhost:8080/"
        }
      },
      "execution_count": null,
      "outputs": [
        {
          "output_type": "stream",
          "name": "stdout",
          "text": [
            "sazid is from chattogram\n"
          ]
        }
      ]
    },
    {
      "cell_type": "code",
      "source": [
        "#Write your code below this line 👇\n",
        "import math;\n",
        "def paint_calc(height,width,cover):\n",
        "  area=height*width;\n",
        "  cans_needed=math.ceil(area/coverage);\n",
        "  print(cans_needed);\n",
        "\n",
        "\n",
        "\n",
        "\n",
        "\n",
        "\n",
        "\n",
        "#Write your code above this line 👆\n",
        "# Define a function called paint_calc() so that the code below works.   \n",
        "\n",
        "# 🚨 Don't change the code below 👇\n",
        "test_h = int(input(\"Height of wall: \"))\n",
        "test_w = int(input(\"Width of wall: \"))\n",
        "coverage = 5\n",
        "paint_calc(height=test_h, width=test_w, cover=coverage)"
      ],
      "metadata": {
        "id": "U-tnUNWAqP5s",
        "outputId": "344980b1-559b-4a54-87b9-bd4812c17f9f",
        "colab": {
          "base_uri": "https://localhost:8080/"
        }
      },
      "execution_count": null,
      "outputs": [
        {
          "output_type": "stream",
          "name": "stdout",
          "text": [
            "Height of wall: 2\n",
            "Width of wall: 4\n",
            "2\n"
          ]
        }
      ]
    },
    {
      "cell_type": "code",
      "source": [
        "alphabet = ['a', 'b', 'c', 'd', 'e', 'f', 'g', 'h', 'i', 'j', 'k', 'l', 'm', 'n', 'o', 'p', 'q', 'r', 's', 't', 'u', 'v', 'w', 'x', 'y', 'z']\n",
        "\n",
        "direction = input(\"Type 'encode' to encrypt, type 'decode' to decrypt:\\n\")\n",
        "text = input(\"Type your message:\\n\").lower()\n",
        "shift = int(input(\"Type the shift number:\\n\"))\n",
        "\n",
        "def caesar(text,shift,direction):\n",
        "  newtext=''\n",
        "  for i in text:\n",
        "    index=alphabet.index(i);\n",
        "    if(direction=='decode'):\n",
        "      newIndex=(index+26-shift)%26;\n",
        "    else:\n",
        "      newIndex=(index+shift)%26;\n",
        "    newtext+=alphabet[newIndex];\n",
        "  print(newtext);\n",
        "\n",
        "caesar(text,shift,direction);"
      ],
      "metadata": {
        "id": "Qmh14pPWwyNW",
        "outputId": "e3e5a5e7-a0ed-4409-dfcf-fe33c891c780",
        "colab": {
          "base_uri": "https://localhost:8080/"
        }
      },
      "execution_count": null,
      "outputs": [
        {
          "output_type": "stream",
          "name": "stdout",
          "text": [
            "Type 'encode' to encrypt, type 'decode' to decrypt:\n",
            "decode\n",
            "Type your message:\n",
            "mjqqt\n",
            "Type the shift number:\n",
            "5\n",
            "hello\n"
          ]
        }
      ]
    },
    {
      "cell_type": "code",
      "source": [
        "#Write your code below this line 👇\n",
        "\n",
        "def prime_checker(number):\n",
        "  prime=True;\n",
        "  for i in range(2,number):\n",
        "    if((number%i)==0):\n",
        "      prime=False;\n",
        "      break;\n",
        "    else:\n",
        "      prime=True;\n",
        "  if(prime):\n",
        "    print(f\"{number} is a prime number\");\n",
        "  else:\n",
        "    print(f\"{number} is not a prime number\");\n",
        "\n",
        "\n",
        "\n",
        "#Write your code above this line 👆\n",
        "    \n",
        "#Do NOT change any of the code below👇\n",
        "n = int(input(\"Check this number: \"))\n",
        "prime_checker(number=n)"
      ],
      "metadata": {
        "id": "LWMCwvDorhGl",
        "outputId": "8f611f8c-6574-466b-d557-b7fa6cd78201",
        "colab": {
          "base_uri": "https://localhost:8080/"
        }
      },
      "execution_count": null,
      "outputs": [
        {
          "output_type": "stream",
          "name": "stdout",
          "text": [
            "Check this number: 73\n",
            "73 is a prime number\n"
          ]
        }
      ]
    },
    {
      "cell_type": "markdown",
      "source": [
        "# Day 9"
      ],
      "metadata": {
        "id": "dE7fCMUzVNhA"
      }
    },
    {
      "cell_type": "code",
      "source": [
        "student_scores = {\n",
        "  \"Harry\": 81,\n",
        "  \"Ron\": 78,\n",
        "  \"Hermione\": 99, \n",
        "  \"Draco\": 74,\n",
        "  \"Neville\": 62,\n",
        "}\n",
        "# 🚨 Don't change the code above 👆\n",
        "\n",
        "#TODO-1: Create an empty dictionary called student_grades.\n",
        "student_grades={}\n",
        "\n",
        "#TODO-2: Write your code below to add the grades to student_grades.👇\n",
        "for key in student_scores:\n",
        "  if(student_scores[key]>91):\n",
        "    student_grades[key]=\"Outstanding\";\n",
        "  elif(student_scores[key]>80):\n",
        "    student_grades[key]=\"Exceeds Expectations\";\n",
        "  elif(student_scores[key]>70):\n",
        "    student_grades[key]=\"Acceptable\";\n",
        "  elif(student_scores[key]<=70):\n",
        "    student_grades[key]=\"Fail\";\n",
        "\n",
        "# 🚨 Don't change the code below 👇\n",
        "print(student_grades)"
      ],
      "metadata": {
        "id": "A_LtbGkAVPwY",
        "outputId": "58ea6103-9c5b-4818-aa62-71740869e1c1",
        "colab": {
          "base_uri": "https://localhost:8080/"
        }
      },
      "execution_count": null,
      "outputs": [
        {
          "output_type": "stream",
          "name": "stdout",
          "text": [
            "{'Harry': 'Exceeds Expectations', 'Ron': 'Acceptable', 'Hermione': 'Outstanding', 'Draco': 'Acceptable', 'Neville': 'Fail'}\n"
          ]
        }
      ]
    },
    {
      "cell_type": "code",
      "source": [
        "import os;\n",
        "travel_log = [\n",
        "{\n",
        "  \"country\": \"France\",\n",
        "  \"visits\": 12,\n",
        "  \"cities\": [\"Paris\", \"Lille\", \"Dijon\"]\n",
        "},\n",
        "{\n",
        "  \"country\": \"Germany\",\n",
        "  \"visits\": 5,\n",
        "  \"cities\": [\"Berlin\", \"Hamburg\", \"Stuttgart\"]\n",
        "},\n",
        "]\n",
        "#🚨 Do NOT change the code above\n",
        "\n",
        "#TODO: Write the function that will allow new countries\n",
        "#to be added to the travel_log. 👇\n",
        "def add_new_country(name,visits,city):\n",
        "  new_country={\n",
        "      \"country\":name,\n",
        "      \"visits\":visits,\n",
        "      \"cities\":city\n",
        "  }\n",
        "  travel_log.append(new_country);\n",
        "  print(new_country);\n",
        "\n",
        "#🚨 Do not change the code below\n",
        "add_new_country(\"Russia\", 2, [\"Moscow\", \"Saint Petersburg\"])\n",
        "print(travel_log)"
      ],
      "metadata": {
        "id": "uenKZMR9X7x5",
        "outputId": "4a4c95b7-34e2-43b0-eb6a-d610a0b122b7",
        "colab": {
          "base_uri": "https://localhost:8080/"
        }
      },
      "execution_count": null,
      "outputs": [
        {
          "output_type": "stream",
          "name": "stdout",
          "text": [
            "{'country': 'Russia', 'visits': 2, 'cities': ['Moscow', 'Saint Petersburg']}\n",
            "[{'country': 'France', 'visits': 12, 'cities': ['Paris', 'Lille', 'Dijon']}, {'country': 'Germany', 'visits': 5, 'cities': ['Berlin', 'Hamburg', 'Stuttgart']}, {'country': 'Russia', 'visits': 2, 'cities': ['Moscow', 'Saint Petersburg']}]\n"
          ]
        },
        {
          "output_type": "execute_result",
          "data": {
            "text/plain": [
              "32512"
            ]
          },
          "metadata": {},
          "execution_count": 11
        }
      ]
    },
    {
      "cell_type": "code",
      "source": [
        "count=1;\n",
        "allBids=[];\n",
        "while(count>0):\n",
        "  name=input('name?');\n",
        "  bid=int(input('Bid'));\n",
        "  bid={\n",
        "      \"name\":name,\n",
        "      \"bid\":bid\n",
        "  }\n",
        "  allBids.append(bid);\n",
        "  yesNo=input(\"Any other bidder?Type 'Yes' or 'no'\").lower();\n",
        "  if(yesNo=='yes'):\n",
        "    count=1\n",
        "  else:\n",
        "    count=0;\n",
        "\n",
        "highest={\n",
        "    'name':'',\n",
        "    'bid':0\n",
        "};\n",
        "for i in allBids:\n",
        "    if(i[\"bid\"]>highest[\"bid\"]):\n",
        "      highest[\"name\"]=i[\"name\"];\n",
        "      highest[\"bid\"]=i[\"bid\"];\n",
        "print(f\"{ highest['name'] } is the highest bidder\");"
      ],
      "metadata": {
        "id": "SAtr6OQieM90",
        "outputId": "7828580a-a504-4aec-a32a-c0ef530dd9d4",
        "colab": {
          "base_uri": "https://localhost:8080/"
        }
      },
      "execution_count": null,
      "outputs": [
        {
          "output_type": "stream",
          "name": "stdout",
          "text": [
            "name?saz\n",
            "Bid40\n",
            "Any other bidder?Type 'Yes' or 'no'no\n",
            "saz is the highest bidder\n"
          ]
        }
      ]
    },
    {
      "cell_type": "markdown",
      "source": [
        "# Day 10"
      ],
      "metadata": {
        "id": "9zvKNhcfQZx3"
      }
    },
    {
      "cell_type": "code",
      "source": [
        "def is_leap(year):\n",
        "  if year % 4 == 0:\n",
        "    if year % 100 == 0:\n",
        "      if year % 400 == 0:\n",
        "        return True;\n",
        "      else:\n",
        "        return False;\n",
        "    else:\n",
        "      return True;\n",
        "  else:\n",
        "    return False;\n",
        "\n",
        "def days_in_month(year,month):\n",
        "  month_days = [31, 28, 31, 30, 31, 30, 31, 31, 30, 31, 30, 31];\n",
        "  if is_leap(year):\n",
        "    return month_days[month-1]+1;\n",
        "  else:\n",
        "    return month_days[month-1];\n",
        "\n",
        "  \n",
        "  \n",
        "#🚨 Do NOT change any of the code below \n",
        "year = int(input(\"Enter a year: \"));\n",
        "month = int(input(\"Enter a month: \"));\n",
        "days = days_in_month(year, month)\n",
        "print(days)"
      ],
      "metadata": {
        "id": "QIbP9HrTQe2m",
        "outputId": "e7ab1a9f-7406-4acb-d807-19cc50656c89",
        "colab": {
          "base_uri": "https://localhost:8080/"
        }
      },
      "execution_count": null,
      "outputs": [
        {
          "output_type": "stream",
          "name": "stdout",
          "text": [
            "Enter a year: 2024\n",
            "Enter a month: 2\n",
            "29\n"
          ]
        }
      ]
    },
    {
      "cell_type": "code",
      "source": [
        "def add(num1,num2):\n",
        "  return num1+num2;\n",
        "def subtract(num1,num2):\n",
        "  return num1-num2;\n",
        "def mul(num1,num2):\n",
        "  return num1*num2;\n",
        "def div(num1,num2):\n",
        "  return round(num1/num2,2);\n",
        "\n",
        "num1=int(input(\"Enter Number\"));\n",
        "firstRun=True;\n",
        "while (firstRun or again):\n",
        "  firstRun=False;\n",
        "  print(\"choose One Operator\\n1.+\\n2.-\\n3.*\\n4./\\n\");\n",
        "  symbol=input('');\n",
        "  num2=int(input(\"Enter Number\"));\n",
        "  if symbol=='+':\n",
        "    answer=add(num1,num2);\n",
        "    print(f\"your sum is {answer}\");\n",
        "  elif symbol=='-':\n",
        "    answer=subtract(num1,num2);\n",
        "    print(f\"your subtract is {answer}\");\n",
        "  elif symbol=='*':\n",
        "    answer=mul(num1,num2);\n",
        "    print(f\"your multiplication is {answer}\");\n",
        "  elif symbol=='/':\n",
        "    answer=div(num1,num2);\n",
        "    print(f\"your division is {answer}\");\n",
        "  confirm=input(\"calculate the answer Again?'y' or 'n'\");\n",
        "  if confirm=='y':\n",
        "    again=True;\n",
        "    num1=answer;\n",
        "  else :\n",
        "    again=False;\n",
        "\n"
      ],
      "metadata": {
        "id": "ABB0qGUkU0vl",
        "outputId": "ed823de1-7aa8-411e-f7b1-6d3abc4264cf",
        "colab": {
          "base_uri": "https://localhost:8080/"
        }
      },
      "execution_count": null,
      "outputs": [
        {
          "name": "stdout",
          "output_type": "stream",
          "text": [
            "Enter first Number12\n",
            "choose One Operator\n",
            "1.+\n",
            "2.-\n",
            "3.*\n",
            "4./\n",
            "\n",
            "/\n",
            "Enter second Number7\n",
            "your division is 1.71\n",
            "Run Again?'y' or 'n'n\n"
          ]
        }
      ]
    },
    {
      "cell_type": "markdown",
      "source": [
        "# Day 11"
      ],
      "metadata": {
        "id": "WtXM3aO6WOHL"
      }
    },
    {
      "cell_type": "code",
      "source": [
        "import random;\n",
        "cards = [11, 2, 3, 4, 5, 6, 7, 8, 9, 10, 10, 10, 10];\n",
        "myCards=random.choices(cards,k=2);\n",
        "dealerCards=random.choices(cards,k=2);\n",
        "print(f\"My Cards Are {myCards}\");\n",
        "print(f\"Sum is {myCards[0]+myCards[1]}\");\n",
        "print(f\"dealers first card is {dealerCards[0]}\");\n",
        "busted=False;\n",
        "dealerBusted=False;\n",
        "while input(\"Do you want to pick another card? 'y' or 'n'\")=='y':\n",
        "    randomCard=random.choice(cards);\n",
        "    print(f\"card chosen {randomCard}\");\n",
        "    myCards.append(randomCard);\n",
        "    sum=0;\n",
        "    for card in myCards:\n",
        "      sum+=card;\n",
        "        \n",
        "    if (11 in  myCards) and sum>21:\n",
        "        sum=sum-10;\n",
        "    print(f\"Sum is {sum}\");\n",
        "      \n",
        "    if(sum>21):\n",
        "      print(\"Busted\");\n",
        "      busted=True;\n",
        "      break;\n",
        "    \n",
        "    \n",
        "if not(busted):\n",
        "  comsum=0;\n",
        "  print(f\"Computers Cards are {dealerCards}\")\n",
        "  for card in dealerCards:\n",
        "    comsum+=card;\n",
        "\n",
        "  while comsum<16:\n",
        "    card=random.choice(cards);\n",
        "    print(f\"computer Got {card}\");\n",
        "    dealerCards.append(card);\n",
        "    comsum+=card;\n",
        "    if (11 in dealerCards) & sum>21:\n",
        "      comsum=comsum-10;\n",
        "\n",
        "    print(f\"Computer Sum is {comsum}\");\n",
        "    \n",
        "    if sum>21:\n",
        "      print(\"Computer Busted\\n Computer Win\");\n",
        "      print(\"Player Win\");\n",
        "  if(not(dealerBusted)):\n",
        "    if(sum>comsum):\n",
        "      print(f\"Player Win .Players Got {sum} and Computer Got {comsum}\");\n",
        "    elif(sum<comsum):\n",
        "      print(f\"Computer Win .Players Got {sum} and Computer Got {comsum}\");\n",
        "    else:\n",
        "     print(f\"Drawn .Players Got {sum} and Computer Got {comsum}\");\n",
        "\n",
        "\n"
      ],
      "metadata": {
        "id": "8EziK0pqWQzI",
        "outputId": "6291e92f-ae45-41ac-e354-80ad998d6455",
        "colab": {
          "base_uri": "https://localhost:8080/"
        }
      },
      "execution_count": null,
      "outputs": [
        {
          "output_type": "stream",
          "name": "stdout",
          "text": [
            "My Cards Are [5, 6]\n",
            "Sum is 11\n",
            "dealers first card is 10\n",
            "Do you want to pick another card? 'y' or 'n'y\n",
            "card chosen 10\n",
            "Sum is 21\n",
            "Do you want to pick another card? 'y' or 'n'n\n",
            "Computers Cards are [10, 2]\n",
            "computer Got 4\n",
            "Computer Sum is 16\n",
            "Player Win .Players Got 21 and Computer Got 16\n"
          ]
        }
      ]
    },
    {
      "cell_type": "markdown",
      "source": [
        "# Day 12"
      ],
      "metadata": {
        "id": "bkmE0q9-bD3K"
      }
    },
    {
      "cell_type": "code",
      "source": [
        "import random;\n",
        "level=input(\"Type Mode 'easy' Or 'hard'\");\n",
        "lives=0;\n",
        "if(level=='easy'):\n",
        "  lives=10;\n",
        "if(level=='hard'):\n",
        "  lives=10;\n",
        "number=random.choice(range(1,100));\n",
        "print(\"Guess The number between 1-100\");\n",
        "def bigOrSmall(num):\n",
        "  if(num>number):\n",
        "    print('Number is Lower');\n",
        "    return 0;\n",
        "  elif(num<number):\n",
        "    print('Number is higher');\n",
        "    return 0;\n",
        "  elif(num==number):\n",
        "    print(f\"Got the Number .Which is {num}\");\n",
        "    return 1;\n",
        "while(lives>0):\n",
        "  print(f\"You have {lives} lives\")\n",
        "  guess=int(input(\"Guess Number\"));\n",
        "  guessFun=bigOrSmall(guess);\n",
        "  if(guessFun==0):\n",
        "    lives-=1;\n",
        "  elif(guessFun==1):\n",
        "    break;"
      ],
      "metadata": {
        "id": "0KuRv94ubGlA",
        "outputId": "c9e5c091-aa21-4fab-e504-87a5cc3818eb",
        "colab": {
          "base_uri": "https://localhost:8080/"
        }
      },
      "execution_count": null,
      "outputs": [
        {
          "output_type": "stream",
          "name": "stdout",
          "text": [
            "Type Mode 'easy' Or 'hard'easy\n",
            "Guess The number between 1-100\n",
            "You have 10 lives\n",
            "Guess Number78\n",
            "Number is Lower\n",
            "You have 9 lives\n",
            "Guess Number60\n",
            "Number is Lower\n",
            "You have 8 lives\n",
            "Guess Number50\n",
            "Number is Lower\n",
            "You have 7 lives\n",
            "Guess Number30\n",
            "Number is Lower\n",
            "You have 6 lives\n",
            "Guess Number20\n",
            "Number is Lower\n",
            "You have 5 lives\n",
            "Guess Number10\n",
            "Number is Lower\n",
            "You have 4 lives\n",
            "Guess Number5\n",
            "Number is higher\n",
            "You have 3 lives\n",
            "Guess Number7\n",
            "Number is higher\n",
            "You have 2 lives\n",
            "Guess Number9\n",
            "Got the Number .Which is 9\n"
          ]
        }
      ]
    },
    {
      "cell_type": "markdown",
      "source": [
        "# Day 13 \n",
        "**DEBUGGING**"
      ],
      "metadata": {
        "id": "UKPcGODePMWQ"
      }
    },
    {
      "cell_type": "code",
      "source": [
        "############DEBUGGING#####################\n",
        "\n",
        "# # Describe Problem\n",
        "# def my_function():\n",
        "#   for i in range(1, 20):\n",
        "#     if i == 20:\n",
        "#       print(\"You got it\")\n",
        "# my_function()\n",
        "\n",
        "# solution\n",
        "def my_function():\n",
        "  for i in range(1, 21):\n",
        "    if i == 20:\n",
        "      print(\"You got it\")\n",
        "my_function();"
      ],
      "metadata": {
        "id": "wppIQO7YPOJn",
        "outputId": "7ab6e2a6-f09c-4f7c-af3a-c058db845750",
        "colab": {
          "base_uri": "https://localhost:8080/"
        }
      },
      "execution_count": null,
      "outputs": [
        {
          "output_type": "stream",
          "name": "stdout",
          "text": [
            "You got it\n"
          ]
        }
      ]
    },
    {
      "cell_type": "code",
      "source": [
        "# # Reproduce the Bug\n",
        "# from random import randint\n",
        "# dice_imgs = [\"❶\", \"❷\", \"❸\", \"❹\", \"❺\", \"❻\"]\n",
        "# dice_num = randint(1, 6)\n",
        "# print(dice_imgs[dice_num])\n",
        "\n",
        "# Solution\n",
        "from random import randint\n",
        "dice_imgs = [\"❶\", \"❷\", \"❸\", \"❹\", \"❺\", \"❻\"]\n",
        "dice_num = randint(0, 5)\n",
        "print(dice_imgs[dice_num])"
      ],
      "metadata": {
        "id": "tcd-j8NpQDcV",
        "outputId": "d46349ce-69c9-4b73-f5e9-2bcec9fb5c93",
        "colab": {
          "base_uri": "https://localhost:8080/"
        }
      },
      "execution_count": null,
      "outputs": [
        {
          "output_type": "stream",
          "name": "stdout",
          "text": [
            "❻\n"
          ]
        }
      ]
    },
    {
      "cell_type": "code",
      "source": [
        "# # Play Computer\n",
        "# year = int(input(\"What's your year of birth?\"))\n",
        "# if year > 1980 and year < 1994:\n",
        "#   print(\"You are a millenial.\")\n",
        "# elif year > 1994:\n",
        "#   print(\"You are a Gen Z.\")\n",
        "\n",
        "# solution\n",
        "year = int(input(\"What's your year of birth?\"))\n",
        "if year > 1980 and year <= 1994:\n",
        "  print(\"You are a millenial.\")\n",
        "elif year > 1994:\n",
        "  print(\"You are a Gen Z.\")"
      ],
      "metadata": {
        "id": "dGgNOxjdRACV",
        "outputId": "1fb559e9-37bc-46e5-dee7-16a2c97785d9",
        "colab": {
          "base_uri": "https://localhost:8080/"
        }
      },
      "execution_count": null,
      "outputs": [
        {
          "output_type": "stream",
          "name": "stdout",
          "text": [
            "What's your year of birth?1994\n",
            "You are a millenial.\n"
          ]
        }
      ]
    },
    {
      "cell_type": "code",
      "source": [
        "# # Fix the Errors\n",
        "# age = input(\"How old are you?\")\n",
        "# if age > 18:\n",
        "# print(\"You can drive at age {age}.\")\n",
        "# Solution\n",
        "age = int(input(\"How old are you?\"));\n",
        "if age > 18:\n",
        "  print(f\"You can drive at age {age}.\")"
      ],
      "metadata": {
        "id": "qvbtlWeuR6V-",
        "outputId": "958b8fbc-3447-4168-bde6-b54910dcf301",
        "colab": {
          "base_uri": "https://localhost:8080/"
        }
      },
      "execution_count": null,
      "outputs": [
        {
          "output_type": "stream",
          "name": "stdout",
          "text": [
            "How old are you?23\n",
            "You can drive at age 23.\n"
          ]
        }
      ]
    },
    {
      "cell_type": "code",
      "source": [
        "# #Print is Your Friend\n",
        "# pages = 0\n",
        "# word_per_page = 0\n",
        "# pages = int(input(\"Number of pages: \"))\n",
        "# word_per_page == int(input(\"Number of words per page: \"))\n",
        "# total_words = pages * word_per_page\n",
        "# print(total_words)\n",
        "\n",
        "#Solution\n",
        "pages = 0\n",
        "word_per_page = 0\n",
        "pages = int(input(\"Number of pages: \"))\n",
        "word_per_page = int(input(\"Number of words per page: \"));\n",
        "print(word_per_page);\n",
        "print(pages);\n",
        "total_words = pages * word_per_page\n",
        "print(total_words)\n"
      ],
      "metadata": {
        "id": "UMa6hm_qSnxU",
        "outputId": "648cf6cf-4007-40b6-f9b2-6e2e67329ffd",
        "colab": {
          "base_uri": "https://localhost:8080/"
        }
      },
      "execution_count": null,
      "outputs": [
        {
          "output_type": "stream",
          "name": "stdout",
          "text": [
            "Number of pages: 10\n",
            "Number of words per page: 10\n",
            "0\n",
            "10\n",
            "0\n"
          ]
        }
      ]
    },
    {
      "cell_type": "code",
      "source": [
        "# #Use a Debugger\n",
        "#http://www.pythontutor.com/visualize.html#mode=edit\n",
        "# def mutate(a_list):\n",
        "#   b_list = []\n",
        "#   for item in a_list:\n",
        "#     new_item = item * 2\n",
        "#   b_list.append(new_item)\n",
        "#   print(b_list)\n",
        "\n",
        "# mutate([1,2,3,5,8,13])\n",
        "\n",
        "#Solution\n",
        "def mutate(a_list):\n",
        "  b_list = []\n",
        "  for item in a_list:\n",
        "    new_item = item * 2\n",
        "    b_list.append(new_item)\n",
        "    print(b_list)\n",
        "\n",
        "mutate([1,2,3,5,8,13])"
      ],
      "metadata": {
        "id": "0Z4gaRHRUBdL",
        "outputId": "21fe78e4-f766-42f1-fe20-68b524dbd445",
        "colab": {
          "base_uri": "https://localhost:8080/"
        }
      },
      "execution_count": null,
      "outputs": [
        {
          "output_type": "stream",
          "name": "stdout",
          "text": [
            "[2]\n",
            "[2, 4]\n",
            "[2, 4, 6]\n",
            "[2, 4, 6, 10]\n",
            "[2, 4, 6, 10, 16]\n",
            "[2, 4, 6, 10, 16, 26]\n"
          ]
        }
      ]
    },
    {
      "cell_type": "code",
      "source": [
        "# number = int(input(\"Which number do you want to check?\"))\n",
        "\n",
        "# if number % 2 = 0:\n",
        "#   print(\"This is an even number.\")\n",
        "# else:\n",
        "#   print(\"This is an odd number.\")\n",
        "\n",
        "number = int(input(\"Which number do you want to check?\"))\n",
        "\n",
        "if number % 2 == 0:\n",
        "  print(\"This is an even number.\")\n",
        "else:\n",
        "  print(\"This is an odd number.\")"
      ],
      "metadata": {
        "id": "rQ2Z0g1CWU3C"
      },
      "execution_count": null,
      "outputs": []
    },
    {
      "cell_type": "code",
      "source": [
        "# year = input(\"Which year do you want to check?\")\n",
        "\n",
        "# if year % 4 == 0:\n",
        "#   if year % 100 == 0:\n",
        "#     if year % 400 == 0:\n",
        "#       print(\"Leap year.\")\n",
        "#     else:\n",
        "#       print(\"Not leap year.\")\n",
        "#   else:\n",
        "#     print(\"Leap year.\")\n",
        "# else:\n",
        "#   print(\"Not leap year.\")\n",
        "\n",
        "year = int(input(\"Which year do you want to check?\"));\n",
        "\n",
        "if year % 4 == 0:\n",
        "  if year % 100 == 0:\n",
        "    if year % 400 == 0:\n",
        "      print(\"Leap year.\")\n",
        "    else:\n",
        "      print(\"Not leap year.\")\n",
        "  else:\n",
        "    print(\"Leap year.\")\n",
        "else:\n",
        "  print(\"Not leap year.\")"
      ],
      "metadata": {
        "id": "OvI23hfvWg3q"
      },
      "execution_count": null,
      "outputs": []
    },
    {
      "cell_type": "code",
      "source": [
        "# for number in range(1, 101):\n",
        "#   if number % 3 == 0 or number % 5 == 0:\n",
        "#     print(\"FizzBuzz\")\n",
        "#   if number % 3 == 0:\n",
        "#     print(\"Fizz\")\n",
        "#   if number % 5 == 0:\n",
        "#     print(\"Buzz\")\n",
        "#   else:\n",
        "#     print([number])\n",
        "\n",
        "for number in range(1, 101):\n",
        "  if number % 3 == 0 or number % 5 == 0:\n",
        "    print(\"FizzBuzz\")\n",
        "  elif number % 3 == 0:\n",
        "    print(\"Fizz\")\n",
        "  elif number % 5 == 0:\n",
        "    print(\"Buzz\")\n",
        "  else:\n",
        "    print(number);"
      ],
      "metadata": {
        "id": "RA_ukj4FXJNr"
      },
      "execution_count": null,
      "outputs": []
    },
    {
      "cell_type": "markdown",
      "source": [
        ""
      ],
      "metadata": {
        "id": "mjaRNx4gYvIZ"
      }
    },
    {
      "cell_type": "markdown",
      "source": [
        "# Day 14"
      ],
      "metadata": {
        "id": "i1ZwWKlhYy37"
      }
    },
    {
      "cell_type": "code",
      "source": [
        "data = [\n",
        "    {\n",
        "        'name': 'Instagram',\n",
        "        'follower_count': 346,\n",
        "        'description': 'Social media platform',\n",
        "        'country': 'United States'\n",
        "    },\n",
        "    {\n",
        "        'name': 'Cristiano Ronaldo',\n",
        "        'follower_count': 215,\n",
        "        'description': 'Footballer',\n",
        "        'country': 'Portugal'\n",
        "    },\n",
        "    {\n",
        "        'name': 'Ariana Grande',\n",
        "        'follower_count': 183,\n",
        "        'description': 'Musician and actress',\n",
        "        'country': 'United States'\n",
        "    },\n",
        "    {\n",
        "        'name': 'Dwayne Johnson',\n",
        "        'follower_count': 181,\n",
        "        'description': 'Actor and professional wrestler',\n",
        "        'country': 'United States'\n",
        "    },\n",
        "    {\n",
        "        'name': 'Selena Gomez',\n",
        "        'follower_count': 174,\n",
        "        'description': 'Musician and actress',\n",
        "        'country': 'United States'\n",
        "    },\n",
        "    {\n",
        "        'name': 'Kylie Jenner',\n",
        "        'follower_count': 172,\n",
        "        'description': 'Reality TV personality and businesswoman and Self-Made Billionaire',\n",
        "        'country': 'United States'\n",
        "    },\n",
        "    {\n",
        "        'name': 'Kim Kardashian',\n",
        "        'follower_count': 167,\n",
        "        'description': 'Reality TV personality and businesswoman',\n",
        "        'country': 'United States'\n",
        "    },\n",
        "    {\n",
        "        'name': 'Lionel Messi',\n",
        "        'follower_count': 149,\n",
        "        'description': 'Footballer',\n",
        "        'country': 'Argentina'\n",
        "    },\n",
        "    {\n",
        "        'name': 'Beyoncé',\n",
        "        'follower_count': 145,\n",
        "        'description': 'Musician',\n",
        "        'country': 'United States'\n",
        "    },\n",
        "    {\n",
        "        'name': 'Neymar',\n",
        "        'follower_count': 138,\n",
        "        'description': 'Footballer',\n",
        "        'country': 'Brasil'\n",
        "    },\n",
        "    {\n",
        "        'name': 'National Geographic',\n",
        "        'follower_count': 135,\n",
        "        'description': 'Magazine',\n",
        "        'country': 'United States'\n",
        "    },\n",
        "    {\n",
        "        'name': 'Justin Bieber',\n",
        "        'follower_count': 133,\n",
        "        'description': 'Musician',\n",
        "        'country': 'Canada'\n",
        "    },\n",
        "    {\n",
        "        'name': 'Taylor Swift',\n",
        "        'follower_count': 131,\n",
        "        'description': 'Musician',\n",
        "        'country': 'United States'\n",
        "    },\n",
        "    {\n",
        "        'name': 'Kendall Jenner',\n",
        "        'follower_count': 127,\n",
        "        'description': 'Reality TV personality and Model',\n",
        "        'country': 'United States'\n",
        "    },\n",
        "    {\n",
        "        'name': 'Jennifer Lopez',\n",
        "        'follower_count': 119,\n",
        "        'description': 'Musician and actress',\n",
        "        'country': 'United States'\n",
        "    },\n",
        "    {\n",
        "        'name': 'Nicki Minaj',\n",
        "        'follower_count': 113,\n",
        "        'description': 'Musician',\n",
        "        'country': 'Trinidad and Tobago'\n",
        "    },\n",
        "    {\n",
        "        'name': 'Nike',\n",
        "        'follower_count': 109,\n",
        "        'description': 'Sportswear multinational',\n",
        "        'country': 'United States'\n",
        "    },\n",
        "    {\n",
        "        'name': 'Khloé Kardashian',\n",
        "        'follower_count': 108,\n",
        "        'description': 'Reality TV personality and businesswoman',\n",
        "        'country': 'United States'\n",
        "    },\n",
        "    {\n",
        "        'name': 'Miley Cyrus',\n",
        "        'follower_count': 107,\n",
        "        'description': 'Musician and actress',\n",
        "        'country': 'United States'\n",
        "    },\n",
        "    {\n",
        "        'name': 'Katy Perry',\n",
        "        'follower_count': 94,\n",
        "        'description': 'Musician',\n",
        "        'country': 'United States'\n",
        "    },\n",
        "    {\n",
        "        'name': 'Kourtney Kardashian',\n",
        "        'follower_count': 90,\n",
        "        'description': 'Reality TV personality',\n",
        "        'country': 'United States'\n",
        "    },\n",
        "    {\n",
        "        'name': 'Kevin Hart',\n",
        "        'follower_count': 89,\n",
        "        'description': 'Comedian and actor',\n",
        "        'country': 'United States'\n",
        "    },\n",
        "    {\n",
        "        'name': 'Ellen DeGeneres',\n",
        "        'follower_count': 87,\n",
        "        'description': 'Comedian',\n",
        "        'country': 'United States'\n",
        "    },\n",
        "    {\n",
        "        'name': 'Real Madrid CF',\n",
        "        'follower_count': 86,\n",
        "        'description': 'Football club',\n",
        "        'country': 'Spain'\n",
        "    },\n",
        "    {\n",
        "        'name': 'FC Barcelona',\n",
        "        'follower_count': 85,\n",
        "        'description': 'Football club',\n",
        "        'country': 'Spain'\n",
        "    },\n",
        "    {\n",
        "        'name': 'Rihanna',\n",
        "        'follower_count': 81,\n",
        "        'description': 'Musician and businesswoman',\n",
        "        'country': 'Barbados'\n",
        "    },\n",
        "    {\n",
        "        'name': 'Demi Lovato',\n",
        "        'follower_count': 80,\n",
        "        'description': 'Musician and actress',\n",
        "        'country': 'United States'\n",
        "    },\n",
        "    {\n",
        "        'name': \"Victoria's Secret\",\n",
        "        'follower_count': 69,\n",
        "        'description': 'Lingerie brand',\n",
        "        'country': 'United States'\n",
        "    },\n",
        "    {\n",
        "        'name': 'Zendaya',\n",
        "        'follower_count': 68,\n",
        "        'description': 'Actress and musician',\n",
        "        'country': 'United States'\n",
        "    },\n",
        "    {\n",
        "        'name': 'Shakira',\n",
        "        'follower_count': 66,\n",
        "        'description': 'Musician',\n",
        "        'country': 'Colombia'\n",
        "    },\n",
        "    {\n",
        "        'name': 'Drake',\n",
        "        'follower_count': 65,\n",
        "        'description': 'Musician',\n",
        "        'country': 'Canada'\n",
        "    },\n",
        "    {\n",
        "        'name': 'Chris Brown',\n",
        "        'follower_count': 64,\n",
        "        'description': 'Musician',\n",
        "        'country': 'United States'\n",
        "    },\n",
        "    {\n",
        "        'name': 'LeBron James',\n",
        "        'follower_count': 63,\n",
        "        'description': 'Basketball player',\n",
        "        'country': 'United States'\n",
        "    },\n",
        "    {\n",
        "        'name': 'Vin Diesel',\n",
        "        'follower_count': 62,\n",
        "        'description': 'Actor',\n",
        "        'country': 'United States'\n",
        "    },\n",
        "    {\n",
        "        'name': 'Cardi B',\n",
        "        'follower_count': 67,\n",
        "        'description': 'Musician',\n",
        "        'country': 'United States'\n",
        "    },\n",
        "    {\n",
        "        'name': 'David Beckham',\n",
        "        'follower_count': 82,\n",
        "        'description': 'Footballer',\n",
        "        'country': 'United Kingdom'\n",
        "    },\n",
        "    {\n",
        "        'name': 'Billie Eilish',\n",
        "        'follower_count': 61,\n",
        "        'description': 'Musician',\n",
        "        'country': 'United States'\n",
        "    },\n",
        "    {\n",
        "        'name': 'Justin Timberlake',\n",
        "        'follower_count': 59,\n",
        "        'description': 'Musician and actor',\n",
        "        'country': 'United States'\n",
        "    },\n",
        "    {\n",
        "        'name': 'UEFA Champions League',\n",
        "        'follower_count': 58,\n",
        "        'description': 'Club football competition',\n",
        "        'country': 'Europe'\n",
        "    },\n",
        "    {\n",
        "        'name': 'NASA',\n",
        "        'follower_count': 56,\n",
        "        'description': 'Space agency',\n",
        "        'country': 'United States'\n",
        "    },\n",
        "    {\n",
        "        'name': 'Emma Watson',\n",
        "        'follower_count': 56,\n",
        "        'description': 'Actress',\n",
        "        'country': 'United Kingdom'\n",
        "    },\n",
        "    {\n",
        "        'name': 'Shawn Mendes',\n",
        "        'follower_count': 57,\n",
        "        'description': 'Musician',\n",
        "        'country': 'Canada'\n",
        "    },\n",
        "    {\n",
        "        'name': 'Virat Kohli',\n",
        "        'follower_count': 55,\n",
        "        'description': 'Cricketer',\n",
        "        'country': 'India'\n",
        "    },\n",
        "    {\n",
        "        'name': 'Gigi Hadid',\n",
        "        'follower_count': 54,\n",
        "        'description': 'Model',\n",
        "        'country': 'United States'\n",
        "    },\n",
        "    {\n",
        "        'name': 'Priyanka Chopra Jonas',\n",
        "        'follower_count': 53,\n",
        "        'description': 'Actress and musician',\n",
        "        'country': 'India'\n",
        "    },\n",
        "    {\n",
        "        'name': '9GAG',\n",
        "        'follower_count': 52,\n",
        "        'description': 'Social media platform',\n",
        "        'country': 'China'\n",
        "    },\n",
        "    {\n",
        "        'name': 'Ronaldinho',\n",
        "        'follower_count': 51,\n",
        "        'description': 'Footballer',\n",
        "        'country': 'Brasil'\n",
        "    },\n",
        "    {\n",
        "        'name': 'Maluma',\n",
        "        'follower_count': 50,\n",
        "        'description': 'Musician',\n",
        "        'country': 'Colombia'\n",
        "    },\n",
        "    {\n",
        "        'name': 'Camila Cabello',\n",
        "        'follower_count': 49,\n",
        "        'description': 'Musician',\n",
        "        'country': 'Cuba'\n",
        "    },\n",
        "    {\n",
        "        'name': 'NBA',\n",
        "        'follower_count': 47,\n",
        "        'description': 'Club Basketball Competition',\n",
        "        'country': 'United States'\n",
        "    }\n",
        "]\n",
        "import random;\n",
        "lives=1;\n",
        "points=0;\n",
        "\n",
        "\n",
        "while(lives>0):\n",
        "  number1=random.randint(0,len(data)-1);\n",
        "  number2=random.randint(0,len(data)-1);\n",
        "  while(number1==number2):\n",
        "    number2=random.randint(0,len(data)-1);\n",
        "\n",
        "  print(f\"a){data[number1]['name']} or b){data[number2]['name']} whose got the most follower?\");\n",
        "  guess=input().lower();\n",
        "  chosenAnswer=0;\n",
        "  notChosen=0;\n",
        "  if(guess=='a'):\n",
        "    chosenAnswer=data[number1];\n",
        "    notChosen=data[number2];\n",
        "  elif(guess=='b'):\n",
        "    chosenAnswer=data[number2];\n",
        "    notChosen=data[number1];\n",
        "\n",
        "  if(chosenAnswer['follower_count']>=notChosen['follower_count']):\n",
        "    points+=1;\n",
        "    print('You are correct');\n",
        "    print(f\"your point is {points}\")\n",
        "    lives=1;\n",
        "  else:\n",
        "    lives=0;\n",
        "    print(f\"Sorry Wrong Answer. Game over .\\n Your point is {points}\")\n",
        "\n",
        "\n",
        "\n",
        "\n",
        "\n"
      ],
      "metadata": {
        "colab": {
          "base_uri": "https://localhost:8080/"
        },
        "id": "TYDS6XYE9D3_",
        "outputId": "beee7a14-1f37-4c83-f5cc-da22f41679ca"
      },
      "execution_count": 18,
      "outputs": [
        {
          "output_type": "stream",
          "name": "stdout",
          "text": [
            "a)Kim Kardashian or b)Priyanka Chopra Jonas whose got the most follower?\n",
            "a\n",
            "You are correct\n",
            "your point is 1\n",
            "a)Kevin Hart or b)Nicki Minaj whose got the most follower?\n",
            "b\n",
            "You are correct\n",
            "your point is 2\n",
            "a)Ellen DeGeneres or b)Maluma whose got the most follower?\n",
            "a\n",
            "You are correct\n",
            "your point is 3\n",
            "a)Billie Eilish or b)Victoria's Secret whose got the most follower?\n",
            "a\n",
            "Sorry Wrong Answer. Game over .\n",
            " Your point is 3\n"
          ]
        }
      ]
    }
  ]
}