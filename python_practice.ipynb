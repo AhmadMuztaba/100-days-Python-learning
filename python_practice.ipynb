{
  "nbformat": 4,
  "nbformat_minor": 0,
  "metadata": {
    "colab": {
      "name": "python_practice.ipynb",
      "provenance": [],
      "collapsed_sections": [],
      "authorship_tag": "ABX9TyNRdV9UftuF9VicC/G9pkdE",
      "include_colab_link": true
    },
    "kernelspec": {
      "display_name": "Python 3",
      "name": "python3"
    },
    "language_info": {
      "name": "python"
    }
  },
  "cells": [
    {
      "cell_type": "markdown",
      "metadata": {
        "id": "view-in-github",
        "colab_type": "text"
      },
      "source": [
        "<a href=\"https://colab.research.google.com/github/AhmadMuztaba/100-days-Python-learning/blob/main/python_practice.ipynb\" target=\"_parent\"><img src=\"https://colab.research.google.com/assets/colab-badge.svg\" alt=\"Open In Colab\"/></a>"
      ]
    },
    {
      "cell_type": "code",
      "metadata": {
        "id": "kPeyt6aD0fqW"
      },
      "source": [
        "print(\"Welcome to the band name generator\\n\");\n",
        "band_name=input(\"name of the city you grew up\\n\");\n",
        "pet_name=input(\"name of your pet\\n\");\n",
        "print(\"Your band name could be \"+band_name+\" \"+pet_name);\n"
      ],
      "execution_count": null,
      "outputs": []
    },
    {
      "cell_type": "markdown",
      "metadata": {
        "id": "SEQ29OkbonMD"
      },
      "source": [
        "# DAY->1"
      ]
    },
    {
      "cell_type": "code",
      "metadata": {
        "colab": {
          "base_uri": "https://localhost:8080/"
        },
        "id": "LR5LueDrM51B",
        "outputId": "17398983-dfa5-482d-c5cb-002dbcb55220"
      },
      "source": [
        "num=input(\"enter number\\n\");\n",
        "firstnum=int(num[0]);\n",
        "secondnum=int(num[1]);\n",
        "sum=str(firstnum+secondnum);\n",
        "print(\"the sum is \"+sum);"
      ],
      "execution_count": null,
      "outputs": [
        {
          "name": "stdout",
          "output_type": "stream",
          "text": [
            "enter number\n",
            "12.5\n",
            "the sum is 3\n"
          ]
        }
      ]
    },
    {
      "cell_type": "markdown",
      "metadata": {
        "id": "eLL6qDcQovw2"
      },
      "source": [
        "# DAY->2\n"
      ]
    },
    {
      "cell_type": "code",
      "metadata": {
        "id": "D2GrWrDRjkQs"
      },
      "source": [
        "weight=float(input(\"Enter your Weight\\n\"));\n",
        "height=float(input(\"Enter your Height\\n\"));\n",
        "bmi=(weight/(height**2));\n",
        "bmi=math.floor(bmi);\n",
        "print(bmi);"
      ],
      "execution_count": null,
      "outputs": []
    },
    {
      "cell_type": "code",
      "metadata": {
        "colab": {
          "base_uri": "https://localhost:8080/"
        },
        "id": "ovlSMpQOnvDy",
        "outputId": "675dd88e-aa36-41b9-bb26-70c9688c21eb"
      },
      "source": [
        "age=input(\"What is your current age?\");\n",
        "age=int(age);\n",
        "hayat=90;\n",
        "left=hayat-age;\n",
        "days=(left*365);\n",
        "weeks=(left*52);\n",
        "months=(left*12);\n",
        "print(f\"You have {days} days, {weeks} weeks, and {months} months left.\")"
      ],
      "execution_count": null,
      "outputs": [
        {
          "name": "stdout",
          "output_type": "stream",
          "text": [
            "What is your current age?23\n",
            "You have 24455 days, 3484 weeks, and 804 months left.\n"
          ]
        }
      ]
    },
    {
      "cell_type": "code",
      "metadata": {
        "id": "P-E3c6zxrLib"
      },
      "source": [
        "print(\"Welcome to the Tip Calculator\\n\");\n",
        "bill=input(\"what was the total bill ?$\");\n",
        "bill=float(bill);\n",
        "tip=input(\"What percentage tip would you like to give ? 10,12 or 15? \");\n",
        "tip=int(tip);\n",
        "people=input(\"how many people to split the bill? \");\n",
        "people=int(people);\n",
        "total_bill=bill+(bill*(tip/100));\n",
        "each_person_bill=\"{:.2f}\".format(total_bill/people);\n",
        "print(f\"Each person should pay : ${each_person_bill}\");\n"
      ],
      "execution_count": null,
      "outputs": []
    },
    {
      "cell_type": "markdown",
      "metadata": {
        "id": "eBJgF8d4oc0Q"
      },
      "source": [
        "# DAY->3"
      ]
    },
    {
      "cell_type": "code",
      "metadata": {
        "id": "nJPBbj-UocVa"
      },
      "source": [
        "number=int(input(\"Enter Number\\n\"));\n",
        "if number%2==0 :\n",
        "  print(f\"{number} is even\");\n",
        "else :\n",
        "  print(f\"{number} is odd\");"
      ],
      "execution_count": null,
      "outputs": []
    },
    {
      "cell_type": "code",
      "metadata": {
        "colab": {
          "base_uri": "https://localhost:8080/"
        },
        "id": "zLlMwPREs9Au",
        "outputId": "9b47b0ec-d4e6-4837-b981-99c4c53193f8"
      },
      "source": [
        "height=float(input(\"Enter your height \"));\n",
        "weight=float(input(\"Enter your weight \"));\n",
        "bmi=weight/(height**2);\n",
        "if bmi<=18.5:\n",
        "  print(\"You are underweight\");\n",
        "elif (bmi>18.5 and bmi<=25):\n",
        "  print(\"You have a normal weight\");\n",
        "elif (bmi>25 and bmi<=30):\n",
        "  print(\"you are slightly overweight\");\n",
        "elif (bmi>30 and bmi<=35):\n",
        "  print(\"you are obese\");\n",
        "else :\n",
        "  print(\"you are clinically obese\");"
      ],
      "execution_count": null,
      "outputs": [
        {
          "name": "stdout",
          "output_type": "stream",
          "text": [
            "Enter your height1.75\n",
            "Enter your weight80\n",
            "you are slightly overweight\n"
          ]
        }
      ]
    },
    {
      "cell_type": "code",
      "metadata": {
        "id": "s1ZONQecvsUE"
      },
      "source": [
        "year=int(input(\"enter year\"));\n",
        "if(year%4==0):\n",
        "  if(year%100==0):\n",
        "    if(year%400==0):\n",
        "      print(\"leap year\");\n",
        "    else:\n",
        "      print(\"Not a leap year\");\n",
        "  elif(year%100!=0):\n",
        "    print(\"leap year\");\n",
        "else:\n",
        "  print(\"Not a leap year\");"
      ],
      "execution_count": null,
      "outputs": []
    },
    {
      "cell_type": "code",
      "metadata": {
        "id": "2m9OF6US4H3L"
      },
      "source": [
        "print(\"Welcome to Python Pizza Deliveries!\");\n",
        "size = input(\"What size pizza do you want? S, M, or L \");\n",
        "add_pepperoni = input(\"Do you want pepperoni? Y or N \");\n",
        "extra_cheese = input(\"Do you want extra cheese? Y or N \");\n",
        "cost=0;\n",
        "if size=='S':\n",
        "  cost=cost+15;\n",
        "  if(add_pepperoni=='Y'):\n",
        "    cost=cost+2;\n",
        "elif size=='M':\n",
        "  cost=cost+20;\n",
        "  if(add_pepperoni=='Y'):\n",
        "    cost=cost+3;\n",
        "elif size=='L':\n",
        "  cost=cost+25;\n",
        "  if(add_pepperoni=='Y'):\n",
        "    cost=cost+3;\n",
        "if(extra_cheese=='Y'):\n",
        "  cost=cost+1;\n",
        "print(f\"your total is {cost}\")"
      ],
      "execution_count": null,
      "outputs": []
    },
    {
      "cell_type": "code",
      "metadata": {
        "id": "KV4C7wFx8Gyi"
      },
      "source": [
        "name1=input(\"name?\\n\");\n",
        "name2=input(\"name?\\n\");\n",
        "couple=name1+name2;\n",
        "couple=couple.lower();\n",
        "l=0;\n",
        "o=0;\n",
        "v=0;\n",
        "e=0;\n",
        "t=0;\n",
        "r=0;\n",
        "u=0;\n",
        "e=0;\n",
        "for char in couple:\n",
        "    if(char=='l'):\n",
        "      l=l+1;\n",
        "    elif(char=='o'):\n",
        "      o=o+1;\n",
        "    elif(char=='v'):\n",
        "      v=v+1;\n",
        "    elif(char=='e'):\n",
        "      e=e+1;\n",
        "    elif(char=='t'):\n",
        "      t=t+1;\n",
        "    elif(char=='r'):\n",
        "      r=r+1;\n",
        "    elif(char=='u'):\n",
        "      u=u+1;\n",
        "    elif(char=='e'):\n",
        "      e=e+1;\n",
        "love=str(l+o+v+e);\n",
        "true=str(t+r+u+e);\n",
        "\n",
        "true_love=int(true+love);\n",
        "if true_love>90 or true_love<10:\n",
        "  print(f\"{name1} and {name2} love percentage is {true_love}, they go together like coke and mentos.\");\n",
        "elif true_love>40 and true_love<50:\n",
        "  print(f\"{name1} and {name2} love percentage is {true_love}, they are alright together.\");\n",
        "else:\n",
        "  print(f\"Their love percentage is {true_love}.\")\n",
        "\n",
        "\n"
      ],
      "execution_count": null,
      "outputs": []
    },
    {
      "cell_type": "code",
      "metadata": {
        "colab": {
          "background_save": true,
          "base_uri": "https://localhost:8080/"
        },
        "id": "6JaNa8CyRv0T",
        "outputId": "1951dca4-a450-4fff-a6b8-a0db338f2d10"
      },
      "source": [
        "print('''\n",
        "*******************************************************************************\n",
        "          |                   |                  |                     |\n",
        " _________|________________.=\"\"_;=.______________|_____________________|_______\n",
        "|                   |  ,-\"_,=\"\"     `\"=.|                  |\n",
        "|___________________|__\"=._o`\"-._        `\"=.______________|___________________\n",
        "          |                `\"=._o`\"=._      _`\"=._                     |\n",
        " _________|_____________________:=._o \"=._.\"_.-=\"'\"=.__________________|_______\n",
        "|                   |    __.--\" , ; `\"=._o.\" ,-\"\"\"-._ \".   |\n",
        "|___________________|_._\"  ,. .` ` `` ,  `\"-._\"-._   \". '__|___________________\n",
        "          |           |o`\"=._` , \"` `; .\". ,  \"-._\"-._; ;              |\n",
        " _________|___________| ;`-.o`\"=._; .\" ` '`.\"\\` . \"-._ /_______________|_______\n",
        "|                   | |o;    `\"-.o`\"=._``  '` \" ,__.--o;   |\n",
        "|___________________|_| ;     (#) `-.o `\"=.`_.--\"_o.-; ;___|___________________\n",
        "____/______/______/___|o;._    \"      `\".o|o_.--\"    ;o;____/______/______/____\n",
        "/______/______/______/_\"=._o--._        ; | ;        ; ;/______/______/______/_\n",
        "____/______/______/______/__\"=._o--._   ;o|o;     _._;o;____/______/______/____\n",
        "/______/______/______/______/____\"=._o._; | ;_.--\"o.--\"_/______/______/______/_\n",
        "____/______/______/______/______/_____\"=.o|o_.--\"\"___/______/______/______/____\n",
        "/______/______/______/______/______/______/______/______/______/______/_____ /\n",
        "*******************************************************************************\n",
        "''')\n",
        "print(\"Welcome to Treasure Island.\")\n",
        "print(\"Your mission is to find the treasure.\\n আপনি একটি পাহাড়ি রাস্থা বেয়ে হেঁটে চলেছেন ।\") \n",
        "move1=input(\"হাটতে-হাটতে এমন এক জায়গায় এসে পড়লেন যেখান থেকে ২টি পথ বেরিয়েছে । এখন আপনাকে যেকোনো একটি পথ বেছে নিতে হবে Left or Right  । Type \\\"Left\\\" or \\\"Right\\\"\\n\");\n",
        "move1=move1.lower();\n",
        "if move1==\"left\":\n",
        "  print(\"আপনি যে রাস্তা বেছে নিয়েছেন এটা বাঘের আস্তানা । পাশেই বাঘ বসেছিল । আপনার ঘাড় মচকে দিয়েছে । \\n Game Over !!\");\n",
        "elif move1==\"right\":\n",
        "  move2=input(\"আপনি হেঁটে চলেছেন পাহাড়ি রাস্তা বেয়ে । সন্ধ্যা হয়ে আসছে । আপনার সামনে একটা নদী । আপনি কি নদী পাড় হবেন নাকি রাতটা এখানে কাটাবেন?\\n . Type \\\"wait\\\" to wait or Type \\\"swim\\\" to cross the river\\n\");\n",
        "  move2=move2.lower();\n",
        "  if move2==\"swim\":\n",
        "    print(\"নদীতে কুমির ছিল । আপনাকে খেয়ে ফেলেছে । \\n Game Over! \");\n",
        "  else:\n",
        "    move3=input(\"সকালে আপনি মাঝি দেখলেন এবং তার সহায়তায় নৌকা করে নদী পার হলেন ।\\n আপনি আবার হাটছেন । এবার হাটতে-হাটতে একটি ঘন জংগলে এসে আপনি পথ হারিয়ে ফেললেন । \\n তবে ,আল্লাহর অশেষ রহমতে আপনি এমন এক জায়গায় এসে পড়লেন যেখান থেকে ৩টি বাড়ি দেখা যায় । বাড়ি গুলোর রং যথাক্রমে-red ,yellow and blue .\\nআপনি কোন বাড়ি টোকা দিবেন ?\\n\");\n",
        "    move3=move3.lower();\n",
        "    if(move3=='blue'):\n",
        "      print('''\n",
        "      X-X-X-X-X-X-X-X-X-X-X-X-X-X-X-X-X-X-X-X-X-X-X-X-X-X-X-X-X-X-X-X-X-X-X-X-X-X-X\n",
        "|                           ,,'``````````````',,                            |\n",
        "X                        ,'`                   `',                          X\n",
        "|                      ,'                         ',                        |\n",
        "X                    ,'          ;       ;          ',                      X\n",
        "|       (           ;             ;     ;             ;     (               |\n",
        "X        )         ;              ;     ;              ;     )              X\n",
        "|       (         ;                ;   ;                ;   (               |\n",
        "X        )    ;   ;    ,,'```',,,   ; ;   ,,,'```',,    ;   ;               X\n",
        "|       (    ; ',;   '`          `',   ,'`          `'   ;,' ;              |\n",
        "X        )  ; ;`,`',  _--~~~~--__   ' '   __--~~~~--_  ,'`,'; ;     )       X\n",
        "|       (    ; `,' ; :  /       \\~~-___-~~/       \\  : ; ',' ;     (        |\n",
        "X  )     )   )',  ;   -_\\  o    /  '   '  \\    o  /_-   ;  ,'       )   (   X\n",
        "| (     (   (   `;      ~-____--~'       '~--____-~      ;'  )     (     )  |\n",
        "X  )     )   )   ;            ,`;,,,   ,,,;',            ;  (       )   (   X\n",
        "| (     (   (  .  ;        ,'`  (__ '_' __)  `',        ;  . )     (     )  |\n",
        "X  )     \\/ ,\".). ';    ,'`        ~~ ~~        `',    ;  .(.\", \\/  )   (   X\n",
        "| (   , ,'|// / (/ ,;  '        _--~~-~~--_        '  ;, \\)    \\|', ,    )  |\n",
        "X ,)  , \\/ \\|  \\\\,/  ;;       ,; |_| | |_| ;,       ;;  \\,//  |/ \\/ ,   ,   X\n",
        "|\",   .| \\_ |\\/ |#\\_/;       ;_| : `~'~' : |_;       ;\\_/#| \\/| _/ |.   ,\"  |\n",
        "X#(,'  )  \\\\\\#\\ \\##/)#;     :  `\\/       \\/   :     ;#(\\##/ /#///  (  ',)# ,X\n",
        "|| ) | \\ |/ /#/ |#( \\; ;     :               ;     ; ;/ )#| \\#\\ \\| / | ( |) |\n",
        "X\\ |.\\\\ |\\_/#| /#),,`   ;     ;./\\_     _/\\.;     ;   `,,(#\\ |#\\_/| //.| / ,X\n",
        "| \\\\_/# |#\\##/,,'`       ;     ~~--|~|~|--~~     ;       `',,\\##/#| #\\_// \\/|\n",
        "X  ##/#  #,,'`            ;        ~~~~~        ;            `',,#  #\\##  //X\n",
        "|####@,,'`                 `',               ,'`                 `',,@####| |\n",
        "X#,,'`                        `',         ,'`                        `',,###X\n",
        "|'  spb                          ~~-----~~                               `' |\n",
        "X-X-X-X-X-X-X-X-X-X-X-X-X-X-X-X-X-X-X-X-X-X-X-X-X-X-X-X-X-X-X-X-X-X-X-X-X-X-X\n",
        "      \\n''');\n",
        "      print(\"Shakchunni was waiting for you . you are dead.Game over!!\");\n",
        "    elif(move3=='red'):\n",
        "      print('''\n",
        "\n",
        "          (                      )\n",
        "          |\\    _,--------._    / |\n",
        "          | `.,'            `. /  |\n",
        "          `  '              ,-'   '\n",
        "           \\/_         _   (     /\n",
        "          (,-.`.    ,',-.`. `__,'\n",
        "           |/#\\ ),-','#\\`= ,'.` |\n",
        "           `._/)  -'.\\_,'   ) ))|\n",
        "           /  (_.)\\     .   -'//\n",
        "          (  /\\____/\\    ) )`'\\\n",
        "           \\ |V----V||  ' ,    \\\n",
        "            |`- -- -'   ,'   \\  \\      _____\n",
        "     ___    |         .'    \\ \\  `._,-'     `-\n",
        "        `.__,`---^---'       \\ ` -'\n",
        "           -.______  \\ . /  ______,-\n",
        "                   `.     ,'            ap\\n''');\n",
        "      print(\"Daini killed you and eating your flesh and bones !! Game over!!\");\n",
        "    elif(move3=='yellow'):\n",
        "      print(\"Congrats!! you found the treasure .\")\n",
        "    else:\n",
        "      print(\"Game over !! should have chosen the house carefully !!\");\n"
      ],
      "execution_count": null,
      "outputs": [
        {
          "name": "stdout",
          "output_type": "stream",
          "text": [
            "\n",
            "*******************************************************************************\n",
            "          |                   |                  |                     |\n",
            " _________|________________.=\"\"_;=.______________|_____________________|_______\n",
            "|                   |  ,-\"_,=\"\"     `\"=.|                  |\n",
            "|___________________|__\"=._o`\"-._        `\"=.______________|___________________\n",
            "          |                `\"=._o`\"=._      _`\"=._                     |\n",
            " _________|_____________________:=._o \"=._.\"_.-=\"'\"=.__________________|_______\n",
            "|                   |    __.--\" , ; `\"=._o.\" ,-\"\"\"-._ \".   |\n",
            "|___________________|_._\"  ,. .` ` `` ,  `\"-._\"-._   \". '__|___________________\n",
            "          |           |o`\"=._` , \"` `; .\". ,  \"-._\"-._; ;              |\n",
            " _________|___________| ;`-.o`\"=._; .\" ` '`.\"\\` . \"-._ /_______________|_______\n",
            "|                   | |o;    `\"-.o`\"=._``  '` \" ,__.--o;   |\n",
            "|___________________|_| ;     (#) `-.o `\"=.`_.--\"_o.-; ;___|___________________\n",
            "____/______/______/___|o;._    \"      `\".o|o_.--\"    ;o;____/______/______/____\n",
            "/______/______/______/_\"=._o--._        ; | ;        ; ;/______/______/______/_\n",
            "____/______/______/______/__\"=._o--._   ;o|o;     _._;o;____/______/______/____\n",
            "/______/______/______/______/____\"=._o._; | ;_.--\"o.--\"_/______/______/______/_\n",
            "____/______/______/______/______/_____\"=.o|o_.--\"\"___/______/______/______/____\n",
            "/______/______/______/______/______/______/______/______/______/______/_____ /\n",
            "*******************************************************************************\n",
            "\n",
            "Welcome to Treasure Island.\n",
            "Your mission is to find the treasure.\n",
            " আপনি একটি পাহাড়ি রাস্থা বেয়ে হেঁটে চলেছেন ।\n"
          ]
        }
      ]
    },
    {
      "cell_type": "markdown",
      "metadata": {
        "id": "tGVvRcDYv06m"
      },
      "source": [
        "# DAY-->4"
      ]
    },
    {
      "cell_type": "code",
      "metadata": {
        "id": "0_c_YEA1v5rO"
      },
      "source": [
        "import random;\n",
        "rand_int=str(random.randint(1,5));\n",
        "rand_float=str(random.random());\n",
        "print(rand_int);\n",
        "print(rand_float);\n",
        "g=len(rand_float);\n",
        "rand_number=rand_int+rand_float[1:g];\n",
        "print(rand_number);"
      ],
      "execution_count": null,
      "outputs": []
    },
    {
      "cell_type": "code",
      "metadata": {
        "colab": {
          "base_uri": "https://localhost:8080/"
        },
        "id": "7qKhTwsXrju_",
        "outputId": "96b1bef0-bea8-4292-97da-66cf7edaee2f"
      },
      "source": [
        "import random;\n",
        "number=random.randint(0,1);\n",
        "if number==0:\n",
        "  print(\"Heads\");\n",
        "elif number==1:\n",
        "  print(\"Tails\");"
      ],
      "execution_count": null,
      "outputs": [
        {
          "output_type": "stream",
          "name": "stdout",
          "text": [
            "Heads\n"
          ]
        }
      ]
    },
    {
      "cell_type": "code",
      "metadata": {
        "id": "YL7bHt87H22J"
      },
      "source": [
        "import random;\n",
        "names_string = input(\"Give me everybody's names, separated by a comma. \")\n",
        "persons = names_string.split(\",\")\n",
        "count=len(persons)-1;\n",
        "random=random.randint(0,count);\n",
        "print(f\"{persons[random]} is going to buy the meal today!\");"
      ],
      "execution_count": null,
      "outputs": []
    },
    {
      "cell_type": "code",
      "metadata": {
        "colab": {
          "base_uri": "https://localhost:8080/"
        },
        "id": "7f_yEoe_W4zs",
        "outputId": "d96cb687-7540-44b8-e40a-51bc81f0bcb5"
      },
      "source": [
        "row1 = [\"⬜️\",\"⬜️\",\"⬜️\"]\n",
        "row2 = [\"⬜️\",\"⬜️\",\"⬜️\"]\n",
        "row3 = [\"⬜️\",\"⬜️\",\"⬜️\"]\n",
        "map = [row1, row2, row3]\n",
        "print(f\"{row1}\\n{row2}\\n{row3}\")\n",
        "position = input(\"Where do you want to put the treasure? \")\n",
        "map[int(position[1])-1][int(position[0])-1]=\"X\";\n",
        "print(f\"{row1}\\n{row2}\\n{row3}\")"
      ],
      "execution_count": null,
      "outputs": [
        {
          "output_type": "stream",
          "name": "stdout",
          "text": [
            "['⬜️', '⬜️', '⬜️']\n",
            "['⬜️', '⬜️', '⬜️']\n",
            "['⬜️', '⬜️', '⬜️']\n",
            "Where do you want to put the treasure? 31\n",
            "['⬜️', '⬜️', 'X']\n",
            "['⬜️', '⬜️', '⬜️']\n",
            "['⬜️', '⬜️', '⬜️']\n"
          ]
        }
      ]
    },
    {
      "cell_type": "code",
      "metadata": {
        "id": "3iWhBPzxaMtX"
      },
      "source": [
        "import random;\n",
        "rock = '''\n",
        "    _______\n",
        "---'   ____)\n",
        "      (_____)\n",
        "      (_____)\n",
        "      (____)\n",
        "---.__(___)\n",
        "'''\n",
        "\n",
        "paper = '''\n",
        "    _______\n",
        "---'   ____)____\n",
        "          ______)\n",
        "          _______)\n",
        "         _______)\n",
        "---.__________)\n",
        "'''\n",
        "\n",
        "scissors = '''\n",
        "    _______\n",
        "---'   ____)____\n",
        "          ______)\n",
        "       __________)\n",
        "      (____)\n",
        "---.__(___)\n",
        "'''\n",
        "options=[rock,paper,scissors]\n",
        "choose=int(input(\"What do you choose?type 0 for Rock,1 for paper and 2 for Scissors\\n\"));\n",
        "print(\"you chose\\n\");\n",
        "print(options[choose])\n",
        "rand=random.randint(0,2);\n",
        "print(\"computer chose\\n\");\n",
        "print(options[rand]);\n",
        "if(choose==0 and rand==1):\n",
        "  print(\"you loose\");\n",
        "elif(choose==0 and rand==2):\n",
        "  print(\"you win\");\n",
        "elif(choose==1 and rand==0):\n",
        "  print(\"you win\");\n",
        "elif(choose==1 and rand==2):\n",
        "  print(\"you loose\");\n",
        "elif(choose==2 and rand==0):\n",
        "  print(\"you loose\");\n",
        "elif(choose==2 and rand==1):\n",
        "  print(\"you win\");\n",
        "elif(choose==rand):\n",
        "  print(\"draw\");\n",
        "else:\n",
        "  print(\"something went wrong\");\n",
        "\n",
        "\n"
      ],
      "execution_count": null,
      "outputs": []
    },
    {
      "cell_type": "markdown",
      "metadata": {
        "id": "O1hxRMYtAYaS"
      },
      "source": [
        "# DAY-->5"
      ]
    },
    {
      "cell_type": "code",
      "metadata": {
        "id": "LTGQ1y2qAgQv",
        "colab": {
          "base_uri": "https://localhost:8080/"
        },
        "outputId": "67527f11-c068-4cc3-cda8-c168a47983f8"
      },
      "source": [
        "# 🚨 Don't change the code below 👇\n",
        "student_heights = input(\"Input a list of student heights \").split();\n",
        "for n in range(0, len(student_heights)):\n",
        "  student_heights[n] = int(student_heights[n])\n",
        "# 🚨 Don't change the code above 👆\n",
        "#Write your code below this row 👇\n",
        "all_height=0;\n",
        "all_student=0;\n",
        "for student in student_heights :\n",
        "  all_height+=student;\n",
        "  all_student+=1;\n",
        "\n",
        "average=round(all_height/all_student);\n",
        "print(average);"
      ],
      "execution_count": null,
      "outputs": [
        {
          "output_type": "stream",
          "name": "stdout",
          "text": [
            "Input a list of student heights 156 178 165 171 187\n",
            "171\n"
          ]
        }
      ]
    },
    {
      "cell_type": "code",
      "metadata": {
        "colab": {
          "base_uri": "https://localhost:8080/"
        },
        "id": "sVdN7Kpiu789",
        "outputId": "e90dae3a-5f95-4dda-a2ba-60d92ad64a9a"
      },
      "source": [
        "# 🚨 Don't change the code below 👇\n",
        "student_scores = input(\"Input a list of student scores \").split()\n",
        "for n in range(0, len(student_scores)):\n",
        "  student_scores[n] = int(student_scores[n])\n",
        "print(student_scores)\n",
        "# 🚨 Don't change the code above 👆\n",
        "\n",
        "#Write your code below this row 👇\n",
        "highest=student_scores[0];\n",
        "for student in student_scores:\n",
        "    if(student>highest):\n",
        "      highest=student;\n",
        "print(f\"The highest score in the class is : {highest}\");\n",
        "\n"
      ],
      "execution_count": null,
      "outputs": [
        {
          "output_type": "stream",
          "name": "stdout",
          "text": [
            "Input a list of student scores 78 65 89 86 55 91 64 89\n",
            "[78, 65, 89, 86, 55, 91, 64, 89]\n",
            "The highest score in the class is : 91\n"
          ]
        }
      ]
    },
    {
      "cell_type": "code",
      "metadata": {
        "colab": {
          "base_uri": "https://localhost:8080/"
        },
        "id": "GTakJSyT83CO",
        "outputId": "7dc5b689-d5ad-4298-ce1a-6bd714ae3e4f"
      },
      "source": [
        "sum=0;\n",
        "for number in range(1,101):\n",
        "    if(number%2==0):\n",
        "      sum+=number;\n",
        "print(sum);\n"
      ],
      "execution_count": null,
      "outputs": [
        {
          "output_type": "stream",
          "name": "stdout",
          "text": [
            "2550\n"
          ]
        }
      ]
    },
    {
      "cell_type": "code",
      "metadata": {
        "id": "awHCb8go_E7d"
      },
      "source": [
        "for i in range(1,101):\n",
        "  if i%3==0 and i%5==0:\n",
        "    print(\"FizzBuzz\");\n",
        "  elif i%3==0:\n",
        "    print(\"Fizz\");\n",
        "  elif i%5==0:\n",
        "    print(\"Buzz\");\n",
        "  else:\n",
        "    print(i);"
      ],
      "execution_count": null,
      "outputs": []
    },
    {
      "cell_type": "code",
      "metadata": {
        "id": "sKtpFhgcAj33"
      },
      "source": [
        "import random\n",
        "letters = ['a', 'b', 'c', 'd', 'e', 'f', 'g', 'h', 'i', 'j', 'k', 'l', 'm', 'n', 'o', 'p', 'q', 'r', 's', 't', 'u', 'v', 'w', 'x', 'y', 'z', 'A', 'B', 'C', 'D', 'E', 'F', 'G', 'H', 'I', 'J', 'K', 'L', 'M', 'N', 'O', 'P', 'Q', 'R', 'S', 'T', 'U', 'V', 'W', 'X', 'Y', 'Z']\n",
        "numbers = ['0', '1', '2', '3', '4', '5', '6', '7', '8', '9']\n",
        "symbols = ['!', '#', '$', '%', '&', '(', ')', '*', '+']\n",
        "\n",
        "print(\"Welcome to the PyPassword Generator!\")\n",
        "nr_letters= int(input(\"How many letters would you like in your password?\\n\")) \n",
        "nr_symbols = int(input(f\"How many symbols would you like?\\n\"));\n",
        "nr_numbers = int(input(f\"How many numbers would you like?\\n\"));\n",
        "password=[];\n",
        "while nr_letters>0:\n",
        "  password.append(random.choice(letters));\n",
        "  nr_letters=nr_letters-1;\n",
        "while nr_symbols>0:\n",
        "  password.append(random.choice(numbers));\n",
        "  nr_symbols=nr_symbols-1;\n",
        "while nr_numbers>0:\n",
        "  password.append(random.choice(symbols));\n",
        "  nr_numbers=nr_numbers-1;\n",
        "random.shuffle(password);\n",
        "newpassword=''\n",
        "for i in password:\n",
        "  newpassword+=i;\n",
        "print(newpassword);\n"
      ],
      "execution_count": null,
      "outputs": []
    },
    {
      "cell_type": "markdown",
      "metadata": {
        "id": "lRxfEtqYMyDf"
      },
      "source": [
        "# Day-->6"
      ]
    }
  ]
}